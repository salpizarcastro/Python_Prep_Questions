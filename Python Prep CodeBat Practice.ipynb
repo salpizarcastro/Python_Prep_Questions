{
 "cells": [
  {
   "cell_type": "markdown",
   "metadata": {},
   "source": [
    "\n",
    "The parameter weekday is True if it is a weekday, and the parameter vacation is True if we are on vacation. We sleep in if it is not a weekday or we're on vacation. Return True if we sleep in.\n",
    "\n",
    "\n",
    "<br>sleep_in(False, False) → True\n",
    "<br>sleep_in(True, False) → False\n",
    "<br>sleep_in(False, True) → True"
   ]
  },
  {
   "cell_type": "code",
   "execution_count": 85,
   "metadata": {},
   "outputs": [],
   "source": [
    "def sleep_in(weekday, vacation):\n",
    "    we_sleep = False;\n",
    "    if not(weekday) or vacation:\n",
    "        we_sleep = True;\n",
    "    return we_sleep;"
   ]
  },
  {
   "cell_type": "markdown",
   "metadata": {},
   "source": [
    "We have two monkeys, a and b, and the parameters a_smile and b_smile indicate if each is smiling. We are in trouble if they are both smiling or if neither of them is smiling. Return True if we are in trouble.\n",
    "\n",
    "\n",
    "<br>monkey_trouble(True, True) → True\n",
    "<br>monkey_trouble(False, False) → True\n",
    "<br>monkey_trouble(True, False) → False"
   ]
  },
  {
   "cell_type": "code",
   "execution_count": 84,
   "metadata": {},
   "outputs": [
    {
     "data": {
      "text/plain": [
       "3"
      ]
     },
     "execution_count": 84,
     "metadata": {},
     "output_type": "execute_result"
    }
   ],
   "source": [
    "def monkey_trouble(a_smile, b_smile):\n",
    "    trouble = True;\n",
    "    if a_smile != b_smile:\n",
    "        trouble = False;\n",
    "    return trouble;\n",
    "\n",
    "sum_double(1, 2)"
   ]
  },
  {
   "cell_type": "markdown",
   "metadata": {},
   "source": [
    "Given two int values, return their sum. Unless the two values are the same, then return double their sum.\n",
    "\n",
    "\n",
    "<br>sum_double(1, 2) → 3\n",
    "<br>sum_double(3, 2) → 5\n",
    "<br>sum_double(2, 2) → 8"
   ]
  },
  {
   "cell_type": "code",
   "execution_count": 3,
   "metadata": {},
   "outputs": [],
   "source": [
    "def sum_double(a, b):\n",
    "    if a == b:\n",
    "        return (a + b) * 2;\n",
    "      else:\n",
    "        return a + b;"
   ]
  },
  {
   "cell_type": "markdown",
   "metadata": {},
   "source": [
    "Given an int n, return the absolute difference between n and 21, except return double the absolute difference if n is over 21.\n",
    "\n",
    "\n",
    "<br>diff21(19) → 2\n",
    "<br>diff21(10) → 11\n",
    "<br>diff21(21) → 0"
   ]
  },
  {
   "cell_type": "code",
   "execution_count": 4,
   "metadata": {},
   "outputs": [],
   "source": [
    "# n > 21 then abs(n - 21) * 2\n",
    "# abs(n - 21)\n",
    "def diff21(n):\n",
    "      if n <= 21:\n",
    "        return abs(n - 21);\n",
    "      else:\n",
    "        return abs(n - 21) * 2;"
   ]
  },
  {
   "cell_type": "markdown",
   "metadata": {},
   "source": [
    "We have a loud talking parrot. The \"hour\" parameter is the current hour time in the range 0..23. We are in trouble if the parrot is talking and the hour is before 7 or after 20. Return True if we are in trouble.\n",
    "\n",
    "\n",
    "<br>parrot_trouble(True, 6) → True\n",
    "<br>parrot_trouble(True, 7) → False\n",
    "<br>parrot_trouble(False, 6) → False"
   ]
  },
  {
   "cell_type": "code",
   "execution_count": 5,
   "metadata": {},
   "outputs": [],
   "source": [
    "# [hr < 7 or hr > 20] & talking then trouble\n",
    "def parrot_trouble(talking, hour):\n",
    "    trouble = False;\n",
    "    if talking and (hour < 7 or hour > 20):\n",
    "        trouble = True;\n",
    "    return trouble;"
   ]
  },
  {
   "cell_type": "markdown",
   "metadata": {},
   "source": [
    "Given 2 ints, a and b, return True if one if them is 10 or if their sum is 10.\n",
    "\n",
    "\n",
    "<br>makes10(9, 10) → True\n",
    "<br>makes10(9, 9) → False\n",
    "<br>makes10(1, 9) → True"
   ]
  },
  {
   "cell_type": "code",
   "execution_count": 6,
   "metadata": {},
   "outputs": [],
   "source": [
    "# a or b = 10 or a + b = 10\n",
    "def makes10(a, b):\n",
    "      return (a == 10 or b == 10 or a+b == 10);\n",
    "      #if a + b == 10 or a == 10 or b == 10:\n",
    "      #  return True;\n",
    "      #else:\n",
    "      #  return False;\n"
   ]
  },
  {
   "cell_type": "markdown",
   "metadata": {},
   "source": [
    "Given an int n, return True if it is within 10 of 100 or 200. Note: abs(num) computes the absolute value of a number.\n",
    "\n",
    "\n",
    "<br>near_hundred(93) → True\n",
    "<br>near_hundred(90) → True\n",
    "<br>near_hundred(89) → False"
   ]
  },
  {
   "cell_type": "code",
   "execution_count": 7,
   "metadata": {},
   "outputs": [
    {
     "data": {
      "text/plain": [
       "True"
      ]
     },
     "execution_count": 7,
     "metadata": {},
     "output_type": "execute_result"
    }
   ],
   "source": [
    "def near_hundred(n):\n",
    "    return 90 <= n <= 110 or 190 <= n <= 210;\n",
    "\n",
    "near_hundred(93)"
   ]
  },
  {
   "cell_type": "markdown",
   "metadata": {},
   "source": [
    "Given 2 int values, return True if one is negative and one is positive. Except if the parameter \"negative\" is True, then return True only if both are negative.\n",
    "\n",
    "\n",
    "<br>pos_neg(1, -1, False) → True\n",
    "<br>pos_neg(-1, 1, False) → True\n",
    "<br>pos_neg(-4, -5, True) → True"
   ]
  },
  {
   "cell_type": "code",
   "execution_count": 8,
   "metadata": {},
   "outputs": [
    {
     "data": {
      "text/plain": [
       "False"
      ]
     },
     "execution_count": 8,
     "metadata": {},
     "output_type": "execute_result"
    }
   ],
   "source": [
    "# - + False: true\n",
    "# + - False: true\n",
    "# - - True: true\n",
    "\n",
    "def pos_neg(a, b, negative):\n",
    "    if a < 0 and b < 0 and negative:\n",
    "        return True;\n",
    "    elif a < 0 and b > 0 and not(negative):\n",
    "        return True;\n",
    "    elif a > 0 and b < 0 and not(negative):\n",
    "        return True;\n",
    "    else:\n",
    "        return False\n",
    "    \n",
    "pos_neg(-1, -1, False)"
   ]
  },
  {
   "cell_type": "code",
   "execution_count": 9,
   "metadata": {},
   "outputs": [],
   "source": [
    "#Solution b\n",
    "def pos_neg(a, b, negative):\n",
    "    if negative:\n",
    "        return (a < 0 and b < 0)\n",
    "      else:\n",
    "        return ((a < 0 and b > 0) or (a > 0 and b < 0))"
   ]
  },
  {
   "cell_type": "markdown",
   "metadata": {},
   "source": [
    "Given a string, return a new string where \"not \" has been added to the front. However, if the string already begins with \"not\", return the string unchanged.\n",
    "\n",
    "\n",
    "<br>not_string('candy') → 'not candy'\n",
    "<br>not_string('x') → 'not x'\n",
    "<br>not_string('not bad') → 'not bad'"
   ]
  },
  {
   "cell_type": "code",
   "execution_count": 10,
   "metadata": {},
   "outputs": [],
   "source": [
    "def not_string(str):\n",
    "    if str.startswith('not'):\n",
    "        return str;\n",
    "      else:\n",
    "        return 'not ' + str;"
   ]
  },
  {
   "cell_type": "code",
   "execution_count": 11,
   "metadata": {},
   "outputs": [],
   "source": [
    "# Solution B\n",
    "def not_string(str):\n",
    "    if len(str) >= 3 and str[:3] == \"not\":\n",
    "        return str\n",
    "    return \"not \" + str"
   ]
  },
  {
   "cell_type": "markdown",
   "metadata": {},
   "source": [
    "Given a non-empty string and an int n, return a new string where the char at index n has been removed. The value of n will be a valid index of a char in the original string (i.e. n will be in the range 0..len(str)-1 inclusive).\n",
    "\n",
    "\n",
    "<br>missing_char('kitten', 1) → 'ktten'\n",
    "<br>missing_char('kitten', 0) → 'itten'\n",
    "<br>missing_char('kitten', 4) → 'kittn'"
   ]
  },
  {
   "cell_type": "code",
   "execution_count": 12,
   "metadata": {},
   "outputs": [
    {
     "data": {
      "text/plain": [
       "'ktten'"
      ]
     },
     "execution_count": 12,
     "metadata": {},
     "output_type": "execute_result"
    }
   ],
   "source": [
    "def missing_char(str, n):\n",
    "    return str[:n] + str[n + 1:]; \n",
    "\n",
    "missing_char('kitten', 1)\n",
    "#missing_char('kitten', 1) → 'ktten'\n",
    "#missing_char('kitten', 0) → 'itten'\n",
    "#missing_char('kitten', 4) → 'kittn'"
   ]
  },
  {
   "cell_type": "markdown",
   "metadata": {},
   "source": [
    "Given a string, return a new string where the first and last chars have been exchanged.\n",
    "\n",
    "\n",
    "<br>front_back('code') → 'eodc'\n",
    "<br>front_back('a') → 'a'\n",
    "<br>front_back('ab') → 'ba'"
   ]
  },
  {
   "cell_type": "code",
   "execution_count": 13,
   "metadata": {},
   "outputs": [
    {
     "data": {
      "text/plain": [
       "'a'"
      ]
     },
     "execution_count": 13,
     "metadata": {},
     "output_type": "execute_result"
    }
   ],
   "source": [
    "def front_back(str):\n",
    "    if len(str) == 1:\n",
    "        return str;\n",
    "    return str[-1] + str[1 : -1] + str[0];\n",
    "\n",
    "front_back('code')\n",
    "front_back('a')"
   ]
  },
  {
   "cell_type": "code",
   "execution_count": 14,
   "metadata": {},
   "outputs": [],
   "source": [
    "# Solution B\n",
    "def front_back(str):\n",
    "    if len(str) <= 1:\n",
    "        return str\n",
    "    mid = str[1:len(str)-1]  # can be written as str[1:-1]\n",
    "    # last + mid + first\n",
    "    return str[len(str)-1] + mid + str[0]"
   ]
  },
  {
   "cell_type": "markdown",
   "metadata": {},
   "source": [
    "Given a string, we'll say that the front is the first 3 chars of the string. If the string length is less than 3, the front is whatever is there. Return a new string which is 3 copies of the front.\n",
    "\n",
    "\n",
    "<br>front3('Java') → 'JavJavJav'\n",
    "<br>front3('Chocolate') → 'ChoChoCho'\n",
    "<br>front3('abc') → 'abcabcabc'"
   ]
  },
  {
   "cell_type": "code",
   "execution_count": 15,
   "metadata": {},
   "outputs": [
    {
     "data": {
      "text/plain": [
       "'abCabCabC'"
      ]
     },
     "execution_count": 15,
     "metadata": {},
     "output_type": "execute_result"
    }
   ],
   "source": [
    "def front3(str):\n",
    "    temp_str = '';\n",
    "    if len(str) <= 3:\n",
    "        temp_str = str;\n",
    "    else:\n",
    "        temp_str = str[:3];\n",
    "    return temp_str * 3;\n",
    "\n",
    "front3('abCDE')"
   ]
  },
  {
   "cell_type": "markdown",
   "metadata": {},
   "source": [
    "Given a string and a non-negative int n, return a larger string that is n copies of the original string.\n",
    "\n",
    "\n",
    "<br>string_times('Hi', 2) → 'HiHi'\n",
    "<br>string_times('Hi', 3) → 'HiHiHi'\n",
    "<br>string_times('Hi', 1) → 'Hi'"
   ]
  },
  {
   "cell_type": "code",
   "execution_count": 16,
   "metadata": {},
   "outputs": [],
   "source": [
    "def string_times(str, n):\n",
    "    return str * abs(n);"
   ]
  },
  {
   "cell_type": "code",
   "execution_count": 17,
   "metadata": {},
   "outputs": [],
   "source": [
    "# Solution B\n",
    "def string_times(str, n):\n",
    "    result = \"\"\n",
    "    for i in range(n):  # range(n) is [0, 1, 2, .... n-1]\n",
    "        result = result + str  # could use += here\n",
    "    return result"
   ]
  },
  {
   "cell_type": "markdown",
   "metadata": {},
   "source": [
    "Given a string and a non-negative int n, we'll say that the front of the string is the first 3 chars, or whatever is there if the string is less than length 3. Return n copies of the front;\n",
    "\n",
    "\n",
    "<br>front_times('Chocolate', 2) → 'ChoCho'\n",
    "<br>front_times('Chocolate', 3) → 'ChoChoCho'\n",
    "<br>front_times('Abc', 3) → 'AbcAbcAbc'"
   ]
  },
  {
   "cell_type": "code",
   "execution_count": 18,
   "metadata": {},
   "outputs": [],
   "source": [
    "def front_times(str, n):\n",
    "    if len(str) <= 3:\n",
    "        return str * abs(n);\n",
    "    else:\n",
    "        return str[:3] * abs(n);"
   ]
  },
  {
   "cell_type": "markdown",
   "metadata": {},
   "source": [
    "Given a string, return a new string made of every other char starting with the first, so \"Hello\" yields \"Hlo\".\n",
    "\n",
    "\n",
    "<br>string_bits('Hello') → 'Hlo'\n",
    "<br>string_bits('Hi') → 'H'\n",
    "<br>string_bits('Heeololeo') → 'Hello'"
   ]
  },
  {
   "cell_type": "code",
   "execution_count": 89,
   "metadata": {},
   "outputs": [
    {
     "data": {
      "text/plain": [
       "'Hello'"
      ]
     },
     "execution_count": 89,
     "metadata": {},
     "output_type": "execute_result"
    }
   ],
   "source": [
    "def string_bits(str):\n",
    "    new_str = '';\n",
    "    for x in range(len(str) + 1):\n",
    "        if x == 0 or x % 2 == 0:\n",
    "            new_str = new_str + str[x];\n",
    "    return new_str;\n",
    "\n",
    "string_bits('Heeololeo')"
   ]
  },
  {
   "cell_type": "markdown",
   "metadata": {},
   "source": [
    "Given a non-empty string like \"Code\" return a string like \"CCoCodCode\".\n",
    "\n",
    "\n",
    "<br>string_splosion('Code') → 'CCoCodCode'\n",
    "<br>string_splosion('abc') → 'aababc'\n",
    "<br>string_splosion('ab') → 'aab'"
   ]
  },
  {
   "cell_type": "code",
   "execution_count": 20,
   "metadata": {},
   "outputs": [
    {
     "data": {
      "text/plain": [
       "'CCoCodCode'"
      ]
     },
     "execution_count": 20,
     "metadata": {},
     "output_type": "execute_result"
    }
   ],
   "source": [
    "def string_splosion(str):\n",
    "    new_str = '';\n",
    "    for x in range(len(str) + 1):\n",
    "        new_str = new_str + str[:x]\n",
    "    return new_str;\n",
    "\n",
    "string_splosion('Code')"
   ]
  },
  {
   "cell_type": "markdown",
   "metadata": {},
   "source": [
    "Given a string, return the count of the number of times that a substring length 2 appears in the string and also as the last 2 chars of the string, so \"hixxxhi\" yields 1 (we won't count the end substring).\n",
    "\n",
    "\n",
    "<br>last2('hixxhi') → 1\n",
    "<br>last2('xaxxaxaxx') → 1\n",
    "<br>last2('axxxaaxx') → 2"
   ]
  },
  {
   "cell_type": "code",
   "execution_count": 21,
   "metadata": {},
   "outputs": [
    {
     "data": {
      "text/plain": [
       "3"
      ]
     },
     "execution_count": 21,
     "metadata": {},
     "output_type": "execute_result"
    }
   ],
   "source": [
    "def last2(str):\n",
    "    temp_str = '';\n",
    "    last2_cnt = 0;\n",
    "    for x in range(len(str) - 1):\n",
    "        temp_str = str[x : x + 2]\n",
    "        last2_cnt = str[0 : len(str)-1].count(temp_str);\n",
    "        if last2_cnt > 1: \n",
    "            return last2_cnt;\n",
    "    return 1;\n",
    "\n",
    "last2('xaxxaxaxx')"
   ]
  },
  {
   "cell_type": "code",
   "execution_count": 90,
   "metadata": {},
   "outputs": [
    {
     "name": "stdout",
     "output_type": "stream",
     "text": [
      "ax - xx\n",
      "xx - xx\n",
      "xx - xx\n",
      "xa - xx\n",
      "aa - xx\n",
      "ax - xx\n"
     ]
    },
    {
     "data": {
      "text/plain": [
       "2"
      ]
     },
     "execution_count": 90,
     "metadata": {},
     "output_type": "execute_result"
    }
   ],
   "source": [
    "#Solution B\n",
    "\n",
    "def last2(str):\n",
    "  # Screen out too-short string case.\n",
    "    if len(str) < 2:\n",
    "        return 0\n",
    "  \n",
    "  # last 2 chars, can be written as str[-2:]\n",
    "    last2 = str[len(str)-2:];\n",
    "    count = 0;\n",
    "  \n",
    "  # Check each substring length 2 starting at i\n",
    "    for i in range(len(str)-2):\n",
    "        sub = str[i:i+2]\n",
    "        print(sub, '-', last2);\n",
    "        if sub == last2:\n",
    "            count = count + 1\n",
    "\n",
    "    return count\n",
    "\n",
    "last2('axxxaaxx')"
   ]
  },
  {
   "cell_type": "markdown",
   "metadata": {},
   "source": [
    "Given an array of ints, return the number of 9's in the array.\n",
    "\n",
    "\n",
    "<br>array_count9([1, 2, 9]) → 1\n",
    "<br>array_count9([1, 9, 9]) → 2\n",
    "<br>array_count9([1, 9, 9, 3, 9]) → 3"
   ]
  },
  {
   "cell_type": "code",
   "execution_count": 23,
   "metadata": {},
   "outputs": [
    {
     "data": {
      "text/plain": [
       "3"
      ]
     },
     "execution_count": 23,
     "metadata": {},
     "output_type": "execute_result"
    }
   ],
   "source": [
    "def array_count9(nums):\n",
    "    count = 0;\n",
    "    for x in range(len(nums)):\n",
    "        if nums[x] == 9:\n",
    "            count = count + 1;\n",
    "    return count;\n",
    "\n",
    "array_count9([1, 9, 9, 3, 9])"
   ]
  },
  {
   "cell_type": "markdown",
   "metadata": {},
   "source": [
    "Given an array of ints, return True if one of the first 4 elements in the array is a 9. The array length may be less than 4.\n",
    "\n",
    "\n",
    "<br>array_front9([1, 2, 9, 3, 4]) → True\n",
    "<br>array_front9([1, 2, 3, 4, 9]) → False\n",
    "<br>array_front9([1, 2, 3, 4, 5]) → False"
   ]
  },
  {
   "cell_type": "code",
   "execution_count": 24,
   "metadata": {},
   "outputs": [
    {
     "data": {
      "text/plain": [
       "False"
      ]
     },
     "execution_count": 24,
     "metadata": {},
     "output_type": "execute_result"
    }
   ],
   "source": [
    "def array_front9(nums):\n",
    "    for x in range(len(nums)):\n",
    "        if x < 4 and nums[x] == 9:\n",
    "            return True;\n",
    "    return False;\n",
    "\n",
    "array_front9([1, 2, 3, 4, 5]) "
   ]
  },
  {
   "cell_type": "markdown",
   "metadata": {},
   "source": [
    "Given an array of ints, return True if the sequence of numbers 1, 2, 3 appears in the array somewhere.\n",
    "\n",
    "\n",
    "<br>array123([1, 1, 2, 3, 1]) → True\n",
    "<br>array123([1, 1, 2, 4, 1]) → False\n",
    "<br>array123([1, 1, 2, 1, 2, 3]) → True"
   ]
  },
  {
   "cell_type": "code",
   "execution_count": 25,
   "metadata": {},
   "outputs": [
    {
     "data": {
      "text/plain": [
       "True"
      ]
     },
     "execution_count": 25,
     "metadata": {},
     "output_type": "execute_result"
    }
   ],
   "source": [
    "def array123(nums):\n",
    "    for x in range(len(nums) - 2):\n",
    "        if nums[x] == 1 and nums[x + 1] == 2 and nums[x + 2] == 3:\n",
    "            return True;\n",
    "    return False;\n",
    "\n",
    "array123([1, 1, 2, 1, 2, 3])"
   ]
  },
  {
   "cell_type": "markdown",
   "metadata": {},
   "source": [
    "Given 2 strings, a and b, return the number of the positions where they contain the same length 2 substring. \n",
    "So \"xxcaazz\" and \"xxbaaz\" yields 3, since the \"xx\", \"aa\", and \"az\" substrings appear in the same place in both strings.\n",
    "\n",
    "\n",
    "<br>string_match('xxcaazz', 'xxbaaz') → 3\n",
    "<br>string_match('abc', 'abc') → 2\n",
    "<br>string_match('abc', 'axc') → 0"
   ]
  },
  {
   "cell_type": "code",
   "execution_count": 26,
   "metadata": {},
   "outputs": [
    {
     "data": {
      "text/plain": [
       "1"
      ]
     },
     "execution_count": 26,
     "metadata": {},
     "output_type": "execute_result"
    }
   ],
   "source": [
    "def string_match(a, b):\n",
    "    temp_str = '';\n",
    "    count = 0;\n",
    "    for x in range(len(a) - 1):\n",
    "        if a[x : x + 2] == b[x : x + 2]:\n",
    "            count = count + 1;\n",
    "    return count;\n",
    "\n",
    "string_match('aabbccdd', 'abbbxxd')"
   ]
  },
  {
   "cell_type": "markdown",
   "metadata": {},
   "source": [
    "Given a string name, e.g. \"Bob\", return a greeting of the form \"Hello Bob!\".\n",
    "\n",
    "\n",
    "<br>hello_name('Bob') → 'Hello Bob!'\n",
    "<br>hello_name('Alice') → 'Hello Alice!'\n",
    "<br>hello_name('X') → 'Hello X!'"
   ]
  },
  {
   "cell_type": "code",
   "execution_count": 27,
   "metadata": {},
   "outputs": [
    {
     "data": {
      "text/plain": [
       "'Hello Bob!'"
      ]
     },
     "execution_count": 27,
     "metadata": {},
     "output_type": "execute_result"
    }
   ],
   "source": [
    "def hello_name(name):\n",
    "    return 'Hello ' + name + '!';\n",
    "\n",
    "hello_name('Bob')"
   ]
  },
  {
   "cell_type": "markdown",
   "metadata": {},
   "source": [
    "Given two strings, a and b, return the result of putting them together in the order abba, e.g. \"Hi\" and \"Bye\" returns \"HiByeByeHi\".\n",
    "\n",
    "\n",
    "<br>make_abba('Hi', 'Bye') → 'HiByeByeHi'\n",
    "<br>make_abba('Yo', 'Alice') → 'YoAliceAliceYo'\n",
    "<br>make_abba('What', 'Up') → 'WhatUpUpWhat'"
   ]
  },
  {
   "cell_type": "code",
   "execution_count": 28,
   "metadata": {},
   "outputs": [
    {
     "data": {
      "text/plain": [
       "'YoAliceAliceYo'"
      ]
     },
     "execution_count": 28,
     "metadata": {},
     "output_type": "execute_result"
    }
   ],
   "source": [
    "def make_abba(a, b):\n",
    "    return a + b * 2 + a;\n",
    "\n",
    "make_abba('Yo', 'Alice')"
   ]
  },
  {
   "cell_type": "markdown",
   "metadata": {},
   "source": [
    "The web is built with HTML strings like \"<i>Yay</i>\" which draws Yay as italic text. \n",
    "In this example, the \"i\" tag makes <i> and </i> which surround the word \"Yay\". \n",
    "Given tag and word strings, create the HTML string with tags around the word, e.g. \"<i>Yay</i>\".\n",
    "\n",
    "\n",
    "<br>make_tags('i', 'Yay') → '<i>Yay</i>'\n",
    "<br>make_tags('i', 'Hello') → '<i>Hello</i>'\n",
    "<br>make_tags('cite', 'Yay') → '<cite>Yay</cite>'"
   ]
  },
  {
   "cell_type": "code",
   "execution_count": 29,
   "metadata": {},
   "outputs": [
    {
     "data": {
      "text/plain": [
       "'<cite>Yay</cite>'"
      ]
     },
     "execution_count": 29,
     "metadata": {},
     "output_type": "execute_result"
    }
   ],
   "source": [
    "def make_tags(tag, word):\n",
    "    return '<' + tag + '>' + word + '</' + tag + '>'\n",
    "\n",
    "make_tags('cite', 'Yay')"
   ]
  },
  {
   "cell_type": "markdown",
   "metadata": {},
   "source": [
    "Given an \"out\" string length 4, such as \"<<>>\", and a word, return a new string where the word is in the middle of the out string, e.g. \"<<word>>\".\n",
    "\n",
    "\n",
    "<br>make_out_word('<<>>', 'Yay') → '<<Yay>>'\n",
    "<br>make_out_word('<<>>', 'WooHoo') → '<<WooHoo>>'\n",
    "<br>make_out_word('[[]]', 'word') → '[[word]]'"
   ]
  },
  {
   "cell_type": "code",
   "execution_count": 30,
   "metadata": {},
   "outputs": [
    {
     "data": {
      "text/plain": [
       "'<<Yay>>'"
      ]
     },
     "execution_count": 30,
     "metadata": {},
     "output_type": "execute_result"
    }
   ],
   "source": [
    "def make_out_word(out, word):\n",
    "    return out[:2] + word + out[-2:];\n",
    "    \n",
    "make_out_word('<<>>', 'Yay')"
   ]
  },
  {
   "cell_type": "markdown",
   "metadata": {},
   "source": [
    "Given a string, return a new string made of 3 copies of the last 2 chars of the original string. \n",
    "The string length will be at least 2.\n",
    "\n",
    "\n",
    "<br>extra_end('Hello') → 'lololo'\n",
    "<br>extra_end('ab') → 'ababab'\n",
    "<br>extra_end('Hi') → 'HiHiHi'\n"
   ]
  },
  {
   "cell_type": "code",
   "execution_count": 31,
   "metadata": {},
   "outputs": [
    {
     "data": {
      "text/plain": [
       "'lololo'"
      ]
     },
     "execution_count": 31,
     "metadata": {},
     "output_type": "execute_result"
    }
   ],
   "source": [
    "def extra_end(str):\n",
    "    return str[-2:] * 3;\n",
    "\n",
    "extra_end('Hello')"
   ]
  },
  {
   "cell_type": "markdown",
   "metadata": {},
   "source": [
    "Given a string, return the string made of its first two chars, so the String \"Hello\" yields \"He\". \n",
    "If the string is shorter than length 2, return whatever there is, so \"X\" yields \"X\", and the empty string \"\" yields \n",
    "the empty string \"\".\n",
    "\n",
    "\n",
    "<br>first_two('Hello') → 'He'\n",
    "<br>first_two('abcdefg') → 'ab'\n",
    "<br>first_two('ab') → 'ab'"
   ]
  },
  {
   "cell_type": "code",
   "execution_count": 32,
   "metadata": {},
   "outputs": [
    {
     "data": {
      "text/plain": [
       "'He'"
      ]
     },
     "execution_count": 32,
     "metadata": {},
     "output_type": "execute_result"
    }
   ],
   "source": [
    "def first_two(str):\n",
    "    if len(str) <= 2:\n",
    "        return str;\n",
    "    else:\n",
    "        return str[:2];\n",
    "    \n",
    "first_two('Hello')"
   ]
  },
  {
   "cell_type": "markdown",
   "metadata": {},
   "source": [
    "Given a string of even length, return the first half. So the string \"WooHoo\" yields \"Woo\".\n",
    "\n",
    "\n",
    "<br>first_half('WooHoo') → 'Woo'\n",
    "<br>first_half('HelloThere') → 'Hello'\n",
    "<br>first_half('abcdef') → 'abc'"
   ]
  },
  {
   "cell_type": "code",
   "execution_count": 33,
   "metadata": {},
   "outputs": [],
   "source": [
    "def first_half(str):\n",
    "    #print(int(len(str)/2));\n",
    "    if len(str) % 2 == 0:\n",
    "        #print(str[:int(len(str)/2)]);\n",
    "        return str[:int(len(str)/2)];\n",
    "\n",
    "first_half('WooHoo');"
   ]
  },
  {
   "cell_type": "markdown",
   "metadata": {},
   "source": [
    "Given a string, return a version without the first and last char, so \"Hello\" yields \"ell\". The string length will be at least 2.\n",
    "\n",
    "\n",
    "<br>without_end('Hello') → 'ell'\n",
    "<br>without_end('java') → 'av'\n",
    "<br>without_end('coding') → 'odin'"
   ]
  },
  {
   "cell_type": "code",
   "execution_count": 34,
   "metadata": {},
   "outputs": [
    {
     "data": {
      "text/plain": [
       "'odin'"
      ]
     },
     "execution_count": 34,
     "metadata": {},
     "output_type": "execute_result"
    }
   ],
   "source": [
    "def without_end(str):\n",
    "    return str[1:-1]\n",
    "\n",
    "without_end('coding') "
   ]
  },
  {
   "cell_type": "markdown",
   "metadata": {},
   "source": [
    "Given 2 strings, a and b, return a string of the form short+long+short, with the shorter string on the outside and the longer string on the inside. The strings will not be the same length, but they may be empty (length 0).\n",
    "\n",
    "\n",
    "<br>combo_string('Hello', 'hi') → 'hiHellohi'\n",
    "<br>combo_string('hi', 'Hello') → 'hiHellohi'\n",
    "<br>combo_string('aaa', 'b') → 'baaab'"
   ]
  },
  {
   "cell_type": "code",
   "execution_count": 35,
   "metadata": {},
   "outputs": [
    {
     "data": {
      "text/plain": [
       "'hiHellohi'"
      ]
     },
     "execution_count": 35,
     "metadata": {},
     "output_type": "execute_result"
    }
   ],
   "source": [
    "def combo_string(a, b):\n",
    "    if len(a) < len(b):\n",
    "        return a + b + a;\n",
    "    else: \n",
    "        return b + a + b;\n",
    "    \n",
    "combo_string('Hello', 'hi')"
   ]
  },
  {
   "cell_type": "markdown",
   "metadata": {},
   "source": [
    "Given 2 strings, return their concatenation, except omit the first char of each. The strings will be at least length 1.\n",
    "\n",
    "\n",
    "<br>non_start('Hello', 'There') → 'ellohere'\n",
    "<br>non_start('java', 'code') → 'avaode'\n",
    "<br>non_start('shotl', 'java') → 'hotlava'"
   ]
  },
  {
   "cell_type": "code",
   "execution_count": 36,
   "metadata": {},
   "outputs": [
    {
     "data": {
      "text/plain": [
       "'ellohere'"
      ]
     },
     "execution_count": 36,
     "metadata": {},
     "output_type": "execute_result"
    }
   ],
   "source": [
    "def non_start(a, b):\n",
    "    return a[1:] + b[1:]\n",
    "\n",
    "non_start('Hello', 'There')"
   ]
  },
  {
   "cell_type": "markdown",
   "metadata": {},
   "source": [
    "Given a string, return a \"rotated left 2\" version where the first 2 chars are moved to the end. The string length will be at least 2.\n",
    "\n",
    "\n",
    "<br>left2('Hello') → 'lloHe'\n",
    "<br>left2('java') → 'vaja'\n",
    "<br>left2('Hi') → 'Hi'"
   ]
  },
  {
   "cell_type": "code",
   "execution_count": 37,
   "metadata": {},
   "outputs": [
    {
     "data": {
      "text/plain": [
       "'lloHe'"
      ]
     },
     "execution_count": 37,
     "metadata": {},
     "output_type": "execute_result"
    }
   ],
   "source": [
    "def left2(str):\n",
    "    return str[2:] + str[:2]\n",
    "\n",
    "left2('Hello')"
   ]
  },
  {
   "cell_type": "markdown",
   "metadata": {},
   "source": [
    "Given an array of ints, return True if 6 appears as either the first or last element in the array. The array will be length 1 or more.\n",
    "\n",
    "\n",
    "<br>first_last6([1, 2, 6]) → True\n",
    "<br>first_last6([6, 1, 2, 3]) → True\n",
    "<br>first_last6([13, 6, 1, 2, 3]) → False"
   ]
  },
  {
   "cell_type": "code",
   "execution_count": 38,
   "metadata": {},
   "outputs": [
    {
     "data": {
      "text/plain": [
       "False"
      ]
     },
     "execution_count": 38,
     "metadata": {},
     "output_type": "execute_result"
    }
   ],
   "source": [
    "def first_last6(nums):\n",
    "    return nums[0] == 6 or nums[len(nums) -1] == 6;\n",
    "\n",
    "first_last6([13, 6, 1, 2, 3])"
   ]
  },
  {
   "cell_type": "markdown",
   "metadata": {},
   "source": [
    "Given an array of ints, return True if the array is length 1 or more, and the first element and the last element are equal.\n",
    "\n",
    "\n",
    "<br>same_first_last([1, 2, 3]) → False\n",
    "<br>same_first_last([1, 2, 3, 1]) → True\n",
    "<br>same_first_last([1, 2, 1]) → True"
   ]
  },
  {
   "cell_type": "code",
   "execution_count": 39,
   "metadata": {},
   "outputs": [
    {
     "data": {
      "text/plain": [
       "True"
      ]
     },
     "execution_count": 39,
     "metadata": {},
     "output_type": "execute_result"
    }
   ],
   "source": [
    "def same_first_last(nums):\n",
    "    lenght = len(nums);\n",
    "    return lenght >= 1 and nums[0] == nums[lenght - 1];\n",
    "\n",
    "same_first_last([1, 2, 3, 1])"
   ]
  },
  {
   "cell_type": "markdown",
   "metadata": {},
   "source": [
    "Return an int array length 3 containing the first 3 digits of pi, {3, 1, 4}.\n",
    "\n",
    "<br>make_pi() → [3, 1, 4]"
   ]
  },
  {
   "cell_type": "code",
   "execution_count": 40,
   "metadata": {},
   "outputs": [
    {
     "data": {
      "text/plain": [
       "[3, 1, 4]"
      ]
     },
     "execution_count": 40,
     "metadata": {},
     "output_type": "execute_result"
    }
   ],
   "source": [
    "def make_pi():\n",
    "    return [3, 1, 4];\n",
    "\n",
    "make_pi()"
   ]
  },
  {
   "cell_type": "markdown",
   "metadata": {},
   "source": [
    "Given 2 arrays of ints, a and b, return True if they have the same first element or they have the same last element. Both arrays will be length 1 or more.\n",
    "\n",
    "<br>common_end([1, 2, 3], [7, 3]) → True\n",
    "<br>common_end([1, 2, 3], [7, 3, 2]) → False\n",
    "<br>common_end([1, 2, 3], [1, 3]) → True"
   ]
  },
  {
   "cell_type": "code",
   "execution_count": 41,
   "metadata": {},
   "outputs": [
    {
     "data": {
      "text/plain": [
       "True"
      ]
     },
     "execution_count": 41,
     "metadata": {},
     "output_type": "execute_result"
    }
   ],
   "source": [
    "def common_end(a, b):\n",
    "    return a[0] == b[0] or a[len(a) - 1] == b[len(b) - 1];\n",
    "\n",
    "common_end([1, 2, 3], [1, 3])"
   ]
  },
  {
   "cell_type": "markdown",
   "metadata": {},
   "source": [
    "Given an array of ints length 3, return the sum of all the elements.\n",
    "\n",
    "\n",
    "<br>sum3([1, 2, 3]) → 6\n",
    "<br>sum3([5, 11, 2]) → 18\n",
    "<br>sum3([7, 0, 0]) → 7"
   ]
  },
  {
   "cell_type": "code",
   "execution_count": 42,
   "metadata": {},
   "outputs": [
    {
     "data": {
      "text/plain": [
       "6"
      ]
     },
     "execution_count": 42,
     "metadata": {},
     "output_type": "execute_result"
    }
   ],
   "source": [
    "def sum3(nums):\n",
    "    return sum(nums);\n",
    "\n",
    "sum3([1, 2, 3])"
   ]
  },
  {
   "cell_type": "markdown",
   "metadata": {},
   "source": [
    "Given an array of ints length 3, return an array with the elements \"rotated left\" so {1, 2, 3} yields {2, 3, 1}.\n",
    "\n",
    "\n",
    "<br>rotate_left3([1, 2, 3]) → [2, 3, 1]\n",
    "<br>rotate_left3([5, 11, 9]) → [11, 9, 5]\n",
    "<br>rotate_left3([7, 0, 0]) → [0, 0, 7]"
   ]
  },
  {
   "cell_type": "code",
   "execution_count": 43,
   "metadata": {},
   "outputs": [
    {
     "data": {
      "text/plain": [
       "[11, 9, 5]"
      ]
     },
     "execution_count": 43,
     "metadata": {},
     "output_type": "execute_result"
    }
   ],
   "source": [
    "def rotate_left3(nums):\n",
    "    new = nums[1:];\n",
    "    new.extend(nums[:1])\n",
    "    return new;\n",
    "\n",
    "rotate_left3([5, 11, 9])"
   ]
  },
  {
   "cell_type": "markdown",
   "metadata": {},
   "source": [
    "Given an array of ints length 3, return a new array with the elements in reverse order, so {1, 2, 3} becomes {3, 2, 1}.\n",
    "\n",
    "\n",
    "<br>reverse3([1, 2, 3]) → [3, 2, 1]\n",
    "<br>reverse3([5, 11, 9]) → [9, 11, 5]\n",
    "<br>reverse3([7, 0, 0]) → [0, 0, 7]"
   ]
  },
  {
   "cell_type": "code",
   "execution_count": 44,
   "metadata": {},
   "outputs": [
    {
     "data": {
      "text/plain": [
       "[9, 11, 5]"
      ]
     },
     "execution_count": 44,
     "metadata": {},
     "output_type": "execute_result"
    }
   ],
   "source": [
    "def reverse3(nums):\n",
    "    return nums[::-1];\n",
    "\n",
    "reverse3([5, 11, 9])"
   ]
  },
  {
   "cell_type": "markdown",
   "metadata": {},
   "source": [
    "Given an array of ints length 3, figure out which is larger, the first or last element in the array, and set all the other elements to be that value. Return the changed array.\n",
    "\n",
    "\n",
    "<br>max_end3([1, 2, 3]) → [3, 3, 3]\n",
    "<br>max_end3([11, 5, 9]) → [11, 11, 11]\n",
    "<br>max_end3([2, 11, 3]) → [3, 3, 3]"
   ]
  },
  {
   "cell_type": "code",
   "execution_count": 45,
   "metadata": {},
   "outputs": [
    {
     "data": {
      "text/plain": [
       "[15, 15, 15]"
      ]
     },
     "execution_count": 45,
     "metadata": {},
     "output_type": "execute_result"
    }
   ],
   "source": [
    "def max_end3(nums):\n",
    "    max_num = 0;\n",
    "    if nums[0] > nums[len(nums)-1]:\n",
    "        max_num = nums[0];\n",
    "    else:\n",
    "        max_num = nums[len(nums)-1];\n",
    "    return [max_num, max_num, max_num];\n",
    "\n",
    "max_end3([11, 5, 15])"
   ]
  },
  {
   "cell_type": "markdown",
   "metadata": {},
   "source": [
    "Given an array of ints, return the sum of the first 2 elements in the array. If the array length is less than 2, just sum up the elements that exist, returning 0 if the array is length 0.\n",
    "\n",
    "\n",
    "<br>sum2([1, 2, 3]) → 3\n",
    "<br>sum2([1, 1]) → 2\n",
    "<br>sum2([1, 1, 1, 1]) → 2"
   ]
  },
  {
   "cell_type": "code",
   "execution_count": 46,
   "metadata": {},
   "outputs": [
    {
     "data": {
      "text/plain": [
       "0"
      ]
     },
     "execution_count": 46,
     "metadata": {},
     "output_type": "execute_result"
    }
   ],
   "source": [
    "def sum2(nums):\n",
    "    return sum(nums[:2]);\n",
    "\n",
    "sum2([])"
   ]
  },
  {
   "cell_type": "markdown",
   "metadata": {},
   "source": [
    "Given 2 int arrays, a and b, each length 3, return a new array length 2 containing their middle elements.\n",
    "\n",
    "\n",
    "<br>middle_way([1, 2, 3], [4, 5, 6]) → [2, 5]\n",
    "<br>middle_way([7, 7, 7], [3, 8, 0]) → [7, 8]\n",
    "<br>middle_way([5, 2, 9], [1, 4, 5]) → [2, 4]"
   ]
  },
  {
   "cell_type": "code",
   "execution_count": 47,
   "metadata": {},
   "outputs": [
    {
     "data": {
      "text/plain": [
       "[3, 6]"
      ]
     },
     "execution_count": 47,
     "metadata": {},
     "output_type": "execute_result"
    }
   ],
   "source": [
    "def middle_way(a, b):\n",
    "    return [a[int(round(len(a)/2))], b[int(round(len(b)/2))]];\n",
    "\n",
    "middle_way([1, 2, 3], [4, 5, 6]) "
   ]
  },
  {
   "cell_type": "markdown",
   "metadata": {},
   "source": [
    "Given an array of ints, return a new array length 2 containing the first and last elements from the original array. The original array will be length 1 or more.\n",
    "\n",
    "\n",
    "<br>make_ends([1, 2, 3]) → [1, 3]\n",
    "<br>make_ends([1, 2, 3, 4]) → [1, 4]\n",
    "<br>make_ends([7, 4, 6, 2]) → [7, 2]"
   ]
  },
  {
   "cell_type": "code",
   "execution_count": 48,
   "metadata": {},
   "outputs": [
    {
     "data": {
      "text/plain": [
       "[1, 4]"
      ]
     },
     "execution_count": 48,
     "metadata": {},
     "output_type": "execute_result"
    }
   ],
   "source": [
    "def make_ends(nums):\n",
    "    return [nums[0], nums[len(nums) -1]];\n",
    "\n",
    "make_ends([1, 2, 3, 4])"
   ]
  },
  {
   "cell_type": "markdown",
   "metadata": {},
   "source": [
    "Given an int array length 2, return True if it contains a 2 or a 3.\n",
    "\n",
    "\n",
    "<br>has23([2, 5]) → True\n",
    "<br>has23([4, 3]) → True\n",
    "<br>has23([4, 5]) → False"
   ]
  },
  {
   "cell_type": "code",
   "execution_count": 49,
   "metadata": {},
   "outputs": [
    {
     "data": {
      "text/plain": [
       "True"
      ]
     },
     "execution_count": 49,
     "metadata": {},
     "output_type": "execute_result"
    }
   ],
   "source": [
    "def has23(nums):\n",
    "    return 2 in nums or 3 in nums;\n",
    "\n",
    "has23([4, 3])"
   ]
  },
  {
   "cell_type": "markdown",
   "metadata": {},
   "source": [
    "When squirrels get together for a party, they like to have cigars. A squirrel party is successful when the number of cigars is between 40 and 60, inclusive. Unless it is the weekend, in which case there is no upper bound on the number of cigars. Return True if the party with the given values is successful, or False otherwise.\n",
    "\n",
    "\n",
    "<br>cigar_party(30, False) → False\n",
    "<br>cigar_party(50, False) → True\n",
    "<br>cigar_party(70, True) → True"
   ]
  },
  {
   "cell_type": "code",
   "execution_count": 50,
   "metadata": {},
   "outputs": [
    {
     "data": {
      "text/plain": [
       "True"
      ]
     },
     "execution_count": 50,
     "metadata": {},
     "output_type": "execute_result"
    }
   ],
   "source": [
    "def cigar_party(cigars, is_weekend):\n",
    "    if 40 <= cigars <=60 and not(is_weekend):\n",
    "        return True;\n",
    "    elif is_weekend and cigars >= 40: \n",
    "        return True;\n",
    "    else:\n",
    "        return False;\n",
    "    \n",
    "cigar_party(50, True) "
   ]
  },
  {
   "cell_type": "markdown",
   "metadata": {},
   "source": [
    "You and your date are trying to get a table at a restaurant. The parameter \"you\" is the stylishness of your clothes, in the range 0..10, and \"date\" is the stylishness of your date's clothes. The result getting the table is encoded as an int value with 0=no, 1=maybe, 2=yes. If either of you is very stylish, 8 or more, then the result is 2 (yes). With the exception that if either of you has style of 2 or less, then the result is 0 (no). Otherwise the result is 1 (maybe).\n",
    "\n",
    "\n",
    "<br>date_fashion(5, 10) → 2\n",
    "<br>date_fashion(5, 2) → 0\n",
    "<br>date_fashion(5, 5) → 1"
   ]
  },
  {
   "cell_type": "code",
   "execution_count": 51,
   "metadata": {},
   "outputs": [
    {
     "data": {
      "text/plain": [
       "0"
      ]
     },
     "execution_count": 51,
     "metadata": {},
     "output_type": "execute_result"
    }
   ],
   "source": [
    "# 8 or more >> 2\n",
    "# 2 or less >> 0\n",
    "# 3 - 7     >> 1\n",
    "def date_fashion(you, date):\n",
    "    if you <= 2 or date <= 2:\n",
    "        return 0;\n",
    "    elif you >= 8 or date >= 8:\n",
    "        return 2;\n",
    "    else:\n",
    "        return 1;\n",
    "    \n",
    "date_fashion(10, 2)"
   ]
  },
  {
   "cell_type": "markdown",
   "metadata": {},
   "source": [
    "The squirrels in Palo Alto spend most of the day playing. In particular, they play if the temperature is between 60 and 90 (inclusive). Unless it is summer, then the upper limit is 100 instead of 90. Given an int temperature and a boolean is_summer, return True if the squirrels play and False otherwise.\n",
    "\n",
    "\n",
    "<br>squirrel_play(70, False) → True\n",
    "<br>squirrel_play(95, False) → False\n",
    "<br>squirrel_play(95, True) → True"
   ]
  },
  {
   "cell_type": "code",
   "execution_count": 52,
   "metadata": {},
   "outputs": [
    {
     "data": {
      "text/plain": [
       "True"
      ]
     },
     "execution_count": 52,
     "metadata": {},
     "output_type": "execute_result"
    }
   ],
   "source": [
    "# 60 - 90 play\n",
    "#    - 100 if summer\n",
    "def squirrel_play(temp, is_summer):\n",
    "    if is_summer and 60 <= temp <= 100:\n",
    "        return True;\n",
    "    elif not(is_summer) and 60 <= temp <= 90:\n",
    "        return True;\n",
    "    else:\n",
    "        return False;\n",
    "    \n",
    "squirrel_play(95, True)"
   ]
  },
  {
   "cell_type": "markdown",
   "metadata": {},
   "source": [
    "You are driving a little too fast, and a police officer stops you. Write code to compute the result, encoded as an int value: 0=no ticket, 1=small ticket, 2=big ticket. If speed is 60 or less, the result is 0. If speed is between 61 and 80 inclusive, the result is 1. If speed is 81 or more, the result is 2. Unless it is your birthday -- on that day, your speed can be 5 higher in all cases.\n",
    "\n",
    "\n",
    "<br>caught_speeding(60, False) → 0\n",
    "<br>caught_speeding(65, False) → 1\n",
    "<br>caught_speeding(65, True) → 0"
   ]
  },
  {
   "cell_type": "code",
   "execution_count": 53,
   "metadata": {},
   "outputs": [
    {
     "data": {
      "text/plain": [
       "1"
      ]
     },
     "execution_count": 53,
     "metadata": {},
     "output_type": "execute_result"
    }
   ],
   "source": [
    "# <= 60    : 0\n",
    "# 61 - 80 : 1\n",
    "# >= 81   : 2\n",
    "def caught_speeding(speed, is_birthday):\n",
    "    low = 60;\n",
    "    mid = 80;\n",
    "    if is_birthday:\n",
    "        if speed <= low + 5:\n",
    "            return 0;\n",
    "        elif speed <= mid + 5:\n",
    "            return 1;\n",
    "        else:\n",
    "            return 2;\n",
    "    else:\n",
    "        if speed <= low:\n",
    "            return 0;\n",
    "        elif speed <= mid:\n",
    "            return 1;\n",
    "        else:\n",
    "            return 2;\n",
    "\n",
    "caught_speeding(65, False)  "
   ]
  },
  {
   "cell_type": "markdown",
   "metadata": {},
   "source": [
    "Given 2 ints, a and b, return their sum. However, sums in the range 10..19 inclusive, are forbidden, so in that case just return 20.\n",
    "\n",
    "\n",
    "<br>sorta_sum(3, 4) → 7\n",
    "<br>sorta_sum(9, 4) → 20\n",
    "<br>sorta_sum(10, 11) → 21"
   ]
  },
  {
   "cell_type": "code",
   "execution_count": 54,
   "metadata": {},
   "outputs": [
    {
     "data": {
      "text/plain": [
       "7"
      ]
     },
     "execution_count": 54,
     "metadata": {},
     "output_type": "execute_result"
    }
   ],
   "source": [
    "def sorta_sum(a, b):\n",
    "    if 10 <= a + b <= 19:\n",
    "        return 20;\n",
    "    else:\n",
    "        return a + b;\n",
    "    \n",
    "sorta_sum(3, 4)    "
   ]
  },
  {
   "cell_type": "markdown",
   "metadata": {},
   "source": [
    "Given a day of the week encoded as 0=Sun, 1=Mon, 2=Tue, ...6=Sat, and a boolean indicating if we are on vacation, return a string of the form \"7:00\" indicating when the alarm clock should ring. Weekdays, the alarm should be \"7:00\" and on the weekend it should be \"10:00\". Unless we are on vacation -- then on weekdays it should be \"10:00\" and weekends it should be \"off\".\n",
    "\n",
    "\n",
    "<br>alarm_clock(1, False) → '7:00'\n",
    "<br>alarm_clock(5, False) → '7:00'\n",
    "<br>alarm_clock(0, False) → '10:00'"
   ]
  },
  {
   "cell_type": "code",
   "execution_count": 55,
   "metadata": {},
   "outputs": [
    {
     "data": {
      "text/plain": [
       "'off'"
      ]
     },
     "execution_count": 55,
     "metadata": {},
     "output_type": "execute_result"
    }
   ],
   "source": [
    "#Vacation: 10am weekdays, off weekends\n",
    "#        : 7am weekdays,  10am weekends\n",
    "def alarm_clock(day, vacation):\n",
    "    if vacation:\n",
    "        if 1 <= day <= 5:\n",
    "            return '10:00';\n",
    "        else:\n",
    "            return 'off';\n",
    "    else:\n",
    "        if 1 <= day <= 5:\n",
    "            return '7:00';\n",
    "        else:\n",
    "            return '10:00';\n",
    "        \n",
    "alarm_clock(0, True)"
   ]
  },
  {
   "cell_type": "markdown",
   "metadata": {},
   "source": [
    "The number 6 is a truly great number. Given two int values, a and b, return True if either one is 6. Or if their sum or difference is 6. Note: the function abs(num) computes the absolute value of a number.\n",
    "\n",
    "\n",
    "<br>love6(6, 4) → True\n",
    "<br>love6(4, 5) → False\n",
    "<br>love6(1, 5) → True"
   ]
  },
  {
   "cell_type": "code",
   "execution_count": 56,
   "metadata": {},
   "outputs": [
    {
     "data": {
      "text/plain": [
       "False"
      ]
     },
     "execution_count": 56,
     "metadata": {},
     "output_type": "execute_result"
    }
   ],
   "source": [
    "def love6(a, b):\n",
    "    if (a) == 6 or (b) == 6:\n",
    "        return True;\n",
    "    elif (a) + (b) == 6:\n",
    "        return True;\n",
    "    elif abs(a - b) == 6:\n",
    "        return True;\n",
    "    else:\n",
    "        return False;\n",
    " \n",
    "love6(-6, 2)"
   ]
  },
  {
   "cell_type": "markdown",
   "metadata": {},
   "source": [
    "Given a number n, return True if n is in the range 1..10, inclusive. Unless outside_mode is True, in which case return True if the number is less or equal to 1, or greater or equal to 10.\n",
    "\n",
    "\n",
    "<br>in1to10(5, False) → True\n",
    "<br>in1to10(11, False) → False\n",
    "<br>in1to10(11, True) → True"
   ]
  },
  {
   "cell_type": "code",
   "execution_count": 57,
   "metadata": {},
   "outputs": [
    {
     "data": {
      "text/plain": [
       "False"
      ]
     },
     "execution_count": 57,
     "metadata": {},
     "output_type": "execute_result"
    }
   ],
   "source": [
    "def in1to10(n, outside_mode):\n",
    "    if outside_mode and (n <= 1 or n >= 10):\n",
    "        return True;\n",
    "    elif not(outside_mode) and 1 <= n <= 10:\n",
    "        return True;\n",
    "    else:\n",
    "        return False;\n",
    "\n",
    "in1to10(9, True) "
   ]
  },
  {
   "cell_type": "markdown",
   "metadata": {},
   "source": [
    "Given a non-negative number \"num\", return True if num is within 2 of a multiple of 10. Note: (a % b) is the remainder of dividing a by b, so (7 % 5) is 2. See also: Introduction to Mod\n",
    "\n",
    "\n",
    "<br>near_ten(12) → True\n",
    "<br>near_ten(17) → False\n",
    "<br>near_ten(19) → True"
   ]
  },
  {
   "cell_type": "code",
   "execution_count": 58,
   "metadata": {},
   "outputs": [
    {
     "name": "stdout",
     "output_type": "stream",
     "text": [
      "9\n"
     ]
    },
    {
     "data": {
      "text/plain": [
       "True"
      ]
     },
     "execution_count": 58,
     "metadata": {},
     "output_type": "execute_result"
    }
   ],
   "source": [
    "def near_ten(num):\n",
    "    print(num % 10);\n",
    "    if abs(num % 10) <= 2 or abs(num % 10) >= 8:\n",
    "        return True;\n",
    "    else:\n",
    "        return False;\n",
    "\n",
    "near_ten(9)"
   ]
  },
  {
   "cell_type": "markdown",
   "metadata": {},
   "source": [
    "We want to make a row of bricks that is goal inches long. We have a number of small bricks (1 inch each) and big bricks (5 inches each). Return True if it is possible to make the goal by choosing from the given bricks. This is a little harder than it looks and can be done without any loops. See also: Introduction to MakeBricks\n",
    "\n",
    "\n",
    "<br>make_bricks(3, 1, 8) → True\n",
    "<br>make_bricks(3, 1, 9) → False\n",
    "<br>make_bricks(3, 2, 10) → True"
   ]
  },
  {
   "cell_type": "code",
   "execution_count": 59,
   "metadata": {},
   "outputs": [],
   "source": [
    "#small: 1; big: 5; goal\n",
    "import math\n",
    "\n",
    "def make_bricks(small, big, goal):\n",
    "    big_total = big * 5;\n",
    "    small_total = small * 1;\n",
    "    big_cnt = min(math.trunc(goal / 5), big);\n",
    "    if big == 0 or goal < 5:\n",
    "        return small_total >= goal;\n",
    "    else:\n",
    "        diff = goal - (5 * big_cnt);\n",
    "        return small_total >= diff;\n",
    "\n",
    "#make_bricks(3, 2, 8)\n",
    "#make_bricks(3, 2, 9)\n",
    "#make_bricks(1, 4, 12)\n",
    "#make_bricks(3, 1, 8)\n",
    "#make_bricks(7, 1, 13)\n",
    "#make_bricks(40, 2, 52)\n",
    "#make_bricks(22, 2, 33)"
   ]
  },
  {
   "cell_type": "code",
   "execution_count": 60,
   "metadata": {},
   "outputs": [
    {
     "data": {
      "text/plain": [
       "False"
      ]
     },
     "execution_count": 60,
     "metadata": {},
     "output_type": "execute_result"
    }
   ],
   "source": [
    "#Solution B\n",
    "def make_bricks(small, big, goal):\n",
    "    if goal > big * 5 + small:\n",
    "        return False;\n",
    "    elif goal % 5 > small:\n",
    "        return False;\n",
    "    else:\n",
    "        return True;\n",
    "    \n",
    "make_bricks(4, 0, 9)"
   ]
  },
  {
   "cell_type": "markdown",
   "metadata": {},
   "source": [
    "We want make a package of goal kilos of chocolate. We have small bars (1 kilo each) and big bars (5 kilos each). Return the number of small bars to use, assuming we always use big bars before small bars. Return -1 if it can't be done.\n",
    "\n",
    "\n",
    "<br>make_chocolate(4, 1, 9) → 4\n",
    "<br>make_chocolate(4, 1, 10) → -1\n",
    "<br>make_chocolate(4, 1, 7) → 2"
   ]
  },
  {
   "cell_type": "code",
   "execution_count": 61,
   "metadata": {},
   "outputs": [
    {
     "name": "stdout",
     "output_type": "stream",
     "text": [
      "big_cnt 1\n"
     ]
    },
    {
     "data": {
      "text/plain": [
       "5"
      ]
     },
     "execution_count": 61,
     "metadata": {},
     "output_type": "execute_result"
    }
   ],
   "source": [
    "#small: 1; big: 5; goal > return small bar count\n",
    "def make_chocolate(small, big, goal):\n",
    "    big_cnt = min(math.trunc(goal / 5), big);\n",
    "    print('big_cnt', big_cnt);\n",
    "    if goal > ((big * 5) + small):\n",
    "        return -1;\n",
    "    elif goal % 5 > small:\n",
    "        return -1;\n",
    "    else:\n",
    "        return goal - (big_cnt * 5);\n",
    "        \n",
    "#make_chocolate(4, 1, 9)  \n",
    "#make_chocolate(4, 1, 10)\n",
    "#make_chocolate(4, 1, 7)\n",
    "#make_chocolate(6, 2, 7)\n",
    "make_chocolate(6, 1, 10)"
   ]
  },
  {
   "cell_type": "code",
   "execution_count": 62,
   "metadata": {},
   "outputs": [
    {
     "data": {
      "text/plain": [
       "[[1, 5], [6, 12]]"
      ]
     },
     "execution_count": 62,
     "metadata": {},
     "output_type": "execute_result"
    }
   ],
   "source": [
    "#Pinterest\n",
    "# Given a list of intervals, return a list of non overlapping intervals. If they are overlapping, merge them.\n",
    "# [1, 4],[6, 9], [3, 5],  [8, 12] -> [1, 5], [6, 12]\n",
    "#[1, 4, 3, 5]\n",
    "\n",
    "def overlap (intervals):\n",
    "    intervals.sort();\n",
    "    result = [];\n",
    "    #intervals.sort(key = lambda x: x[0]) \n",
    "    if len(intervals) > 0:\n",
    "        a = intervals[0];\n",
    "        intervals = intervals[1:];\n",
    "    for x in range(len(intervals)):\n",
    "        b = intervals[x];\n",
    "        if a[0] <= b[0] <= a[1]:\\\n",
    "            a = [min(a + b), max(a + b)]\n",
    "        else:\n",
    "            result.append(a);\n",
    "            a = b;\n",
    "    result.append(a);\n",
    "    return result;\n",
    "            \n",
    "        \n",
    "overlap([[1, 4],[6, 9],[3, 5],[8, 12]])"
   ]
  },
  {
   "cell_type": "markdown",
   "metadata": {},
   "source": [
    "Given 3 int values, a b c, return their sum. However, if one of the values is the same as another of the values, it does not count towards the sum.\n",
    "\n",
    "\n",
    "<br>lone_sum(1, 2, 3) → 6\n",
    "<br>lone_sum(3, 2, 3) → 2\n",
    "<br>lone_sum(3, 3, 3) → 0"
   ]
  },
  {
   "cell_type": "code",
   "execution_count": 63,
   "metadata": {},
   "outputs": [
    {
     "data": {
      "text/plain": [
       "9"
      ]
     },
     "execution_count": 63,
     "metadata": {},
     "output_type": "execute_result"
    }
   ],
   "source": [
    "def lone_sum(a, b, c):\n",
    "    if a == b and b == c:\n",
    "        return 0;\n",
    "    elif a == b:\n",
    "        return c;\n",
    "    elif b == c:\n",
    "        return a;\n",
    "    elif a == c:\n",
    "        return b;\n",
    "    else:\n",
    "        return a + b + c;\n",
    "lone_sum(9, 2, 2)"
   ]
  },
  {
   "cell_type": "code",
   "execution_count": 64,
   "metadata": {},
   "outputs": [],
   "source": [
    "# Solution B\n",
    "def lone_sum(a, b, c):\n",
    "    sum = 0;\n",
    "    if a != b and a != c: sum += a;\n",
    "    if b != a and b != c: sum += b;\n",
    "    if c != a and c != b: sum += c;\n",
    "    return sum;"
   ]
  },
  {
   "cell_type": "markdown",
   "metadata": {},
   "source": [
    "Given 3 int values, a b c, return their sum. However, if one of the values is 13 then it does not count towards the sum and values to its right do not count. So for example, if b is 13, then both b and c do not count.\n",
    "\n",
    "\n",
    "<br>lucky_sum(1, 2, 3) → 6\n",
    "<br>lucky_sum(1, 2, 13) → 3\n",
    "<br>lucky_sum(1, 13, 3) → 1"
   ]
  },
  {
   "cell_type": "code",
   "execution_count": 65,
   "metadata": {},
   "outputs": [
    {
     "data": {
      "text/plain": [
       "3"
      ]
     },
     "execution_count": 65,
     "metadata": {},
     "output_type": "execute_result"
    }
   ],
   "source": [
    "def lucky_sum(a, b, c):\n",
    "    temp = [a, b, c];\n",
    "    sum = 0;\n",
    "    for x in temp:\n",
    "        if x != 13:\n",
    "            sum = sum + x;\n",
    "        else:\n",
    "            break;\n",
    "    return sum;\n",
    "\n",
    "lucky_sum(1, 2, 13)"
   ]
  },
  {
   "cell_type": "markdown",
   "metadata": {},
   "source": [
    "Given 3 int values, a b c, return their sum. However, if any of the values is a teen -- in the range 13..19 inclusive -- then that value counts as 0, except 15 and 16 do not count as a teens. Write a separate helper \"def fix_teen(n):\"that takes in an int value and returns that value fixed for the teen rule. In this way, you avoid repeating the teen code 3 times (i.e. \"decomposition\"). Define the helper below and at the same indent level as the main no_teen_sum().\n",
    "\n",
    "\n",
    "<br>no_teen_sum(1, 2, 3) → 6\n",
    "<br>no_teen_sum(2, 13, 1) → 3\n",
    "<br>no_teen_sum(2, 1, 14) → 3"
   ]
  },
  {
   "cell_type": "code",
   "execution_count": 66,
   "metadata": {},
   "outputs": [
    {
     "data": {
      "text/plain": [
       "3"
      ]
     },
     "execution_count": 66,
     "metadata": {},
     "output_type": "execute_result"
    }
   ],
   "source": [
    "def fix_teen(x):\n",
    "    if 15 <= x <= 16:\n",
    "        return x;\n",
    "    elif 13 <= x <= 19:\n",
    "        return 0;\n",
    "    else:\n",
    "        return x;\n",
    "    \n",
    "def no_teen_sum(a, b, c):\n",
    "    sum = fix_teen(a) + fix_teen(b) + fix_teen(c);\n",
    "    return sum;\n",
    "    \n",
    "no_teen_sum(2, 1, 14) "
   ]
  },
  {
   "cell_type": "markdown",
   "metadata": {},
   "source": [
    "For this problem, we'll round an int value up to the next multiple of 10 if its rightmost digit is 5 or more, so 15 rounds up to 20. Alternately, round down to the previous multiple of 10 if its rightmost digit is less than 5, so 12 rounds down to 10. Given 3 ints, a b c, return the sum of their rounded values. To avoid code repetition, write a separate helper \"def round10(num):\" and call it 3 times. Write the helper entirely below and at the same indent level as round_sum().\n",
    "\n",
    "\n",
    "<br>round_sum(16, 17, 18) → 60\n",
    "<br>round_sum(12, 13, 14) → 30\n",
    "<br>round_sum(6, 4, 4) → 10"
   ]
  },
  {
   "cell_type": "code",
   "execution_count": 67,
   "metadata": {},
   "outputs": [
    {
     "data": {
      "text/plain": [
       "70"
      ]
     },
     "execution_count": 67,
     "metadata": {},
     "output_type": "execute_result"
    }
   ],
   "source": [
    "def round10(x):\n",
    "    r = x / 10;\n",
    "    if r - math.trunc(r) == 0.5:\n",
    "        r += 0.1;\n",
    "    return round(r, 0) * 10;\n",
    "\n",
    "def round_sum(a, b, c):\n",
    "    sum = int(round10(a) + round10(b) + round10(c));\n",
    "    return sum;\n",
    "\n",
    "#round_sum(45, 21, 30)\n",
    "round_sum(16, 17, 18)\n",
    "round_sum(6, 4, 4)\n",
    "round_sum(4, 6, 5)\n",
    "round_sum(23, 24, 25)"
   ]
  },
  {
   "cell_type": "markdown",
   "metadata": {},
   "source": [
    "Given three ints, a b c, return True if one of b or c is \"close\" (differing from a by at most 1), while the other is \"far\", differing from both other values by 2 or more. Note: abs(num) computes the absolute value of a number.\n",
    "\n",
    "\n",
    "<br>close_far(1, 2, 10) → True\n",
    "<br>close_far(1, 2, 3) → False\n",
    "<br>close_far(4, 1, 3) → True"
   ]
  },
  {
   "cell_type": "code",
   "execution_count": 68,
   "metadata": {},
   "outputs": [
    {
     "name": "stdout",
     "output_type": "stream",
     "text": [
      "False\n"
     ]
    },
    {
     "data": {
      "text/plain": [
       "False"
      ]
     },
     "execution_count": 68,
     "metadata": {},
     "output_type": "execute_result"
    }
   ],
   "source": [
    "# b to c = 1\n",
    "# a far by 2\n",
    "\n",
    "def close_far(a, b, c):\n",
    "    close = abs(a - b) <= 1 or abs(a - c) <= 1;\n",
    "    far   = (abs(a - b) >= 2 or abs(a - c) >= 2) and abs(b - c) >= 2;\n",
    "    print(far)\n",
    "    return close and far;\n",
    "\n",
    "close_far(1, 2, 3)"
   ]
  },
  {
   "cell_type": "markdown",
   "metadata": {},
   "source": [
    "We want make a package of goal kilos of chocolate. We have small bars (1 kilo each) and big bars (5 kilos each). Return the number of small bars to use, assuming we always use big bars before small bars. Return -1 if it can't be done.\n",
    "\n",
    "\n",
    "<br>make_chocolate(4, 1, 9) → 4\n",
    "<br>make_chocolate(4, 1, 10) → -1\n",
    "<br>make_chocolate(4, 1, 7) → 2"
   ]
  },
  {
   "cell_type": "code",
   "execution_count": 69,
   "metadata": {},
   "outputs": [
    {
     "data": {
      "text/plain": [
       "3"
      ]
     },
     "execution_count": 69,
     "metadata": {},
     "output_type": "execute_result"
    }
   ],
   "source": [
    "#small 1\n",
    "#big 5\n",
    "def make_chocolate(small, big, goal):\n",
    "    small_cnt = small * 1;\n",
    "    big_cnt = big * 5;\n",
    "    fives = min([int(goal / 5), big]);\n",
    "    if goal > small_cnt + big_cnt:\n",
    "        return -1;\n",
    "    elif goal > fives * 5 + small_cnt:\n",
    "        return -1\n",
    "    else:\n",
    "        return goal - fives * 5;\n",
    "    \n",
    "#make_chocolate(4, 1, 9)\n",
    "#make_chocolate(4, 1, 10)\n",
    "#make_chocolate(4, 1, 7)\n",
    "#make_chocolate(6, 2, 7)\n",
    "#make_chocolate(6, 1, 10)\n",
    "make_chocolate(9, 3, 18)"
   ]
  },
  {
   "cell_type": "markdown",
   "metadata": {},
   "source": [
    "Given a string, return a string where for every char in the original, there are two chars.\n",
    "\n",
    "\n",
    "<br>double_char('The') → 'TThhee'\n",
    "<br>double_char('AAbb') → 'AAAAbbbb'\n",
    "<br>double_char('Hi-There') → 'HHii--TThheerree'"
   ]
  },
  {
   "cell_type": "code",
   "execution_count": 70,
   "metadata": {},
   "outputs": [
    {
     "name": "stdout",
     "output_type": "stream",
     "text": [
      "TT\n",
      "TThh\n",
      "TThhee\n"
     ]
    },
    {
     "data": {
      "text/plain": [
       "'TThhee'"
      ]
     },
     "execution_count": 70,
     "metadata": {},
     "output_type": "execute_result"
    }
   ],
   "source": [
    "def double_char(str):\n",
    "    result = '';\n",
    "    for x in str:\n",
    "        result += x * 2;\n",
    "        print(result);\n",
    "    return result;\n",
    "\n",
    "double_char('The')"
   ]
  },
  {
   "cell_type": "markdown",
   "metadata": {},
   "source": [
    "Return the number of times that the string \"hi\" appears anywhere in the given string.\n",
    "\n",
    "\n",
    "<br>count_hi('abc hi ho') → 1\n",
    "<br>count_hi('ABChi hi') → 2\n",
    "<br>count_hi('hihi') → 2"
   ]
  },
  {
   "cell_type": "code",
   "execution_count": 71,
   "metadata": {},
   "outputs": [
    {
     "data": {
      "text/plain": [
       "2"
      ]
     },
     "execution_count": 71,
     "metadata": {},
     "output_type": "execute_result"
    }
   ],
   "source": [
    "def count_hi(str):\n",
    "    return str.count('hi');\n",
    "\n",
    "count_hi('abc hi ho')\n",
    "count_hi('ABChi hi')"
   ]
  },
  {
   "cell_type": "markdown",
   "metadata": {},
   "source": [
    "Return True if the string \"cat\" and \"dog\" appear the same number of times in the given string.\n",
    "\n",
    "\n",
    "<br>cat_dog('catdog') → True\n",
    "<br>cat_dog('catcat') → False\n",
    "<br>cat_dog('1cat1cadodog') → True"
   ]
  },
  {
   "cell_type": "code",
   "execution_count": 72,
   "metadata": {},
   "outputs": [
    {
     "data": {
      "text/plain": [
       "True"
      ]
     },
     "execution_count": 72,
     "metadata": {},
     "output_type": "execute_result"
    }
   ],
   "source": [
    "def cat_dog(str):\n",
    "    return str.count('cat') == str.count('dog');\n",
    "\n",
    "cat_dog('1cat1cadodog')"
   ]
  },
  {
   "cell_type": "markdown",
   "metadata": {},
   "source": [
    "Return the number of times that the string \"code\" appears anywhere in the given string, except we'll accept any letter for the 'd', so \"cope\" and \"cooe\" count.\n",
    "\n",
    "\n",
    "<br>count_code('aaacodebbb') → 1\n",
    "<br>count_code('codexxcode') → 2\n",
    "<br>count_code('cozexxcope') → 2"
   ]
  },
  {
   "cell_type": "code",
   "execution_count": 73,
   "metadata": {},
   "outputs": [
    {
     "data": {
      "text/plain": [
       "2"
      ]
     },
     "execution_count": 73,
     "metadata": {},
     "output_type": "execute_result"
    }
   ],
   "source": [
    "import re;\n",
    "def count_code(str):\n",
    "    #print(re.findall('co.e', str));\n",
    "    return len(re.findall('co.e', str));\n",
    "\n",
    "count_code('aaacodebbb')\n",
    "count_code('codexxcode')"
   ]
  },
  {
   "cell_type": "markdown",
   "metadata": {},
   "source": [
    "Given two strings, return True if either of the strings appears at the very end of the other string, ignoring upper/lower case differences (in other words, the computation should not be \"case sensitive\"). Note: s.lower() returns the lowercase version of a string.\n",
    "\n",
    "\n",
    "<br>end_other('Hiabc', 'abc') → True\n",
    "<br>end_other('AbC', 'HiaBc') → True\n",
    "<br>end_other('abc', 'abXabc') → True"
   ]
  },
  {
   "cell_type": "code",
   "execution_count": 74,
   "metadata": {},
   "outputs": [
    {
     "data": {
      "text/plain": [
       "False"
      ]
     },
     "execution_count": 74,
     "metadata": {},
     "output_type": "execute_result"
    }
   ],
   "source": [
    "def end_other(a, b):\n",
    "    a = a.lower();\n",
    "    b = b.lower();\n",
    "    x = min(len(a), len(b)) * -1; \n",
    "    if b[x:] == a[x:]:\n",
    "        return True;\n",
    "    else:\n",
    "        return False;\n",
    "\n",
    "end_other('Hiabc', 'abd')\n",
    "end_other('abc', 'abXabd')"
   ]
  },
  {
   "cell_type": "markdown",
   "metadata": {},
   "source": [
    "Return True if the given string contains an appearance of \"xyz\" where the xyz is not directly preceeded by a period (.). So \"xxyz\" counts but \"x.xyz\" does not.\n",
    "\n",
    "\n",
    "<br>xyz_there('abcxyz') → True\n",
    "<br>xyz_there('abc.xyz') → False\n",
    "<br>xyz_there('xyz.abc') → True"
   ]
  },
  {
   "cell_type": "code",
   "execution_count": 75,
   "metadata": {},
   "outputs": [
    {
     "data": {
      "text/plain": [
       "False"
      ]
     },
     "execution_count": 75,
     "metadata": {},
     "output_type": "execute_result"
    }
   ],
   "source": [
    "def xyz_there(str):\n",
    "    wdot = str.count('.xyz');\n",
    "    wodot = str.count('xyz');\n",
    "    return wodot > wdot;\n",
    "\n",
    "xyz_there('abc.xyz')"
   ]
  },
  {
   "cell_type": "markdown",
   "metadata": {},
   "source": [
    "Return the number of even ints in the given array. Note: the % \"mod\" operator computes the remainder, e.g. 5 % 2 is 1.\n",
    "\n",
    "\n",
    "<br>count_evens([2, 1, 2, 3, 4]) → 3\n",
    "<br>count_evens([2, 2, 0]) → 3\n",
    "<br>count_evens([1, 3, 5]) → 0"
   ]
  },
  {
   "cell_type": "code",
   "execution_count": 76,
   "metadata": {},
   "outputs": [
    {
     "data": {
      "text/plain": [
       "0"
      ]
     },
     "execution_count": 76,
     "metadata": {},
     "output_type": "execute_result"
    }
   ],
   "source": [
    "def count_evens(nums):\n",
    "    sum = 0;\n",
    "    for x in nums:\n",
    "        if x % 2 == 0:\n",
    "            sum += 1;\n",
    "    return sum;\n",
    "\n",
    "count_evens([2, 1, 2, 3, 4])\n",
    "count_evens([2, 2, 0])\n",
    "count_evens([1, 3, 5])"
   ]
  },
  {
   "cell_type": "markdown",
   "metadata": {},
   "source": [
    "Given an array length 1 or more of ints, return the difference between the largest and smallest values in the array. Note: the built-in min(v1, v2) and max(v1, v2) functions return the smaller or larger of two values.\n",
    "\n",
    "\n",
    "<br>big_diff([10, 3, 5, 6]) → 7\n",
    "<br>big_diff([7, 2, 10, 9]) → 8\n",
    "<br>big_diff([2, 10, 7, 2]) → 8"
   ]
  },
  {
   "cell_type": "code",
   "execution_count": 77,
   "metadata": {},
   "outputs": [
    {
     "data": {
      "text/plain": [
       "8"
      ]
     },
     "execution_count": 77,
     "metadata": {},
     "output_type": "execute_result"
    }
   ],
   "source": [
    "def big_diff(nums):\n",
    "    mi = -1;\n",
    "    ma = -1;\n",
    "    if len(nums) == 1:\n",
    "        return 0;\n",
    "    for x in range(len(nums)):\n",
    "        if x == 0:\n",
    "            mi = nums[x];\n",
    "            ma = nums[x];\n",
    "        elif nums[x] < mi:\n",
    "            mi = nums[x];\n",
    "        elif nums[x] > ma:\n",
    "            ma = nums[x];\n",
    "    return abs(ma - mi);\n",
    "\n",
    "big_diff([10, 3, 5, 6])\n",
    "big_diff([7, 2, 10, 9])\n",
    "        "
   ]
  },
  {
   "cell_type": "markdown",
   "metadata": {},
   "source": [
    "Return the \"centered\" average of an array of ints, which we'll say is the mean average of the values, except ignoring the largest and smallest values in the array. If there are multiple copies of the smallest value, ignore just one copy, and likewise for the largest value. Use int division to produce the final average. You may assume that the array is length 3 or more.\n",
    "\n",
    "\n",
    "<br>centered_average([1, 2, 3, 4, 100]) → 3\n",
    "<br>centered_average([1, 1, 5, 5, 10, 8, 7]) → 5\n",
    "<br>centered_average([-10, -4, -2, -4, -2, 0]) → -3"
   ]
  },
  {
   "cell_type": "code",
   "execution_count": 4,
   "metadata": {},
   "outputs": [
    {
     "name": "stdout",
     "output_type": "stream",
     "text": [
      "[1, 5, 5, 7, 8]\n",
      "[2, 3, 4]\n"
     ]
    },
    {
     "data": {
      "text/plain": [
       "3"
      ]
     },
     "execution_count": 4,
     "metadata": {},
     "output_type": "execute_result"
    }
   ],
   "source": [
    "def centered_average(nums):\n",
    "    nums.sort();\n",
    "    nums = nums[1:-1];\n",
    "    print(nums)\n",
    "    return (int(sum(nums)/len(nums)));\n",
    "    \n",
    "centered_average([1, 1, 5, 5, 10, 8, 7])\n",
    "centered_average([1, 2, 3, 4, 100])"
   ]
  },
  {
   "cell_type": "markdown",
   "metadata": {},
   "source": [
    "Return the sum of the numbers in the array, returning 0 for an empty array. Except the number 13 is very unlucky, so it does not count and numbers that come immediately after a 13 also do not count.\n",
    "\n",
    "\n",
    "<br>sum13([1, 2, 2, 1]) → 6\n",
    "<br>sum13([1, 1]) → 2\n",
    "<br>sum13([1, 2, 2, 1, 13]) → 6"
   ]
  },
  {
   "cell_type": "code",
   "execution_count": 79,
   "metadata": {},
   "outputs": [
    {
     "data": {
      "text/plain": [
       "3"
      ]
     },
     "execution_count": 79,
     "metadata": {},
     "output_type": "execute_result"
    }
   ],
   "source": [
    "def sum13(nums):\n",
    "    sum = 0;\n",
    "    flag13 = False;\n",
    "    for x in range(len(nums)):\n",
    "        if nums[x] == 13:\n",
    "            flag13 = True;\n",
    "        elif flag13:\n",
    "            flag13 = False;\n",
    "        else:\n",
    "            sum += nums[x];\n",
    "    return sum;\n",
    "\n",
    "#sum13([1, 2, 2, 1])\n",
    "#sum13([1, 1])\n",
    "#sum13([1, 2, 2, 1, 13])\n",
    "sum13([13, 1, 2, 13, 2, 1, 13])"
   ]
  },
  {
   "cell_type": "markdown",
   "metadata": {},
   "source": [
    "Return the sum of the numbers in the array, except ignore sections of numbers starting with a 6 and extending to the next 7 (every 6 will be followed by at least one 7). Return 0 for no numbers.\n",
    "\n",
    "\n",
    "<br>sum67([1, 2, 2]) → 5\n",
    "<br>sum67([1, 2, 2, 6, 99, 99, 7]) → 5\n",
    "<br>sum67([1, 1, 6, 7, 2]) → 4"
   ]
  },
  {
   "cell_type": "code",
   "execution_count": 80,
   "metadata": {},
   "outputs": [
    {
     "data": {
      "text/plain": [
       "18"
      ]
     },
     "execution_count": 80,
     "metadata": {},
     "output_type": "execute_result"
    }
   ],
   "source": [
    "# x, x, x, 6, x, x, 7, x, x\n",
    "def sum67(nums):\n",
    "    sum = 0;\n",
    "    flag = True;\n",
    "    for x in nums:\n",
    "        if x == 6:\n",
    "            flag = False;\n",
    "        elif x == 7 and not(flag):\n",
    "            flag = True;\n",
    "        elif flag:\n",
    "            sum += x;\n",
    "    return sum;\n",
    "\n",
    "sum67([1, 2, 2, 6, 99, 99, 7])\n",
    "sum67([1, 2, 2])\n",
    "sum67([1, 1, 6, 7, 2])\n",
    "sum67([2, 7, 6, 2, 6, 7, 2, 7])"
   ]
  },
  {
   "cell_type": "markdown",
   "metadata": {},
   "source": [
    "Given an array of ints, return True if the array contains a 2 next to a 2 somewhere.\n",
    "\n",
    "\n",
    "<br>has22([1, 2, 2]) → True\n",
    "<br>has22([1, 2, 1, 2]) → False\n",
    "<br>has22([2, 1, 2]) → False"
   ]
  },
  {
   "cell_type": "code",
   "execution_count": 81,
   "metadata": {},
   "outputs": [
    {
     "data": {
      "text/plain": [
       "False"
      ]
     },
     "execution_count": 81,
     "metadata": {},
     "output_type": "execute_result"
    }
   ],
   "source": [
    "def has22(nums):\n",
    "    string = str(nums)[1:-1]\n",
    "    string = string.replace(', ', '')\n",
    "    \n",
    "    return string.find('22') >= 0;\n",
    "    \n",
    "has22([2, 1, 2])"
   ]
  },
  {
   "cell_type": "code",
   "execution_count": null,
   "metadata": {},
   "outputs": [],
   "source": []
  }
 ],
 "metadata": {
  "kernelspec": {
   "display_name": "Python 3",
   "language": "python",
   "name": "python3"
  },
  "language_info": {
   "codemirror_mode": {
    "name": "ipython",
    "version": 3
   },
   "file_extension": ".py",
   "mimetype": "text/x-python",
   "name": "python",
   "nbconvert_exporter": "python",
   "pygments_lexer": "ipython3",
   "version": "3.8.1"
  }
 },
 "nbformat": 4,
 "nbformat_minor": 2
}
