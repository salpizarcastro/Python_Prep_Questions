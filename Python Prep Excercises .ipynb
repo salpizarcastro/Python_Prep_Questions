{
 "cells": [
  {
   "cell_type": "code",
   "execution_count": null,
   "metadata": {},
   "outputs": [],
   "source": [
    "#Pinterest\n",
    "# Given a list of intervals, return a list of non overlapping intervals. If they are overlapping, merge them.\n",
    "# [1, 4], [6, 9], [3, 5], [8, 12] -> [1, 5], [6, 12]\n",
    "# [1, 4], [3, 5], [6, 9], [8, 12], [1, 18]\n",
    "\n",
    "def overlap (intervals):\n",
    "    result = [];\n",
    "    intervals.sort();\n",
    "    print(intervals);\n",
    "    if len(intervals) > 0:\n",
    "        a = intervals[0];\n",
    "    for x in intervals[1:]:\n",
    "        if a[0] <= x[0] <= a[1] or a[0] <= x[1] <= a|[1]:\n",
    "            a = [min(a + x), max(a + x)];\n",
    "        else:\n",
    "            result.append(a);\n",
    "            a = x;\n",
    "        print(a);\n",
    "    result.append(a);\n",
    "    return result;\n",
    "            \n",
    "        \n",
    "overlap([[1, 4], [6, 9], [3, 5], [8, 12], [9, 14], [15, 16], [0, 18]])"
   ]
  },
  {
   "cell_type": "markdown",
   "metadata": {},
   "source": [
    "Insert in sorted and non-overlapping interval array\n",
    "\n",
    "Given a set of non-overlapping intervals and a new interval, insert the interval at correct position. If the insertion results in overlapping intervals, then merge the overlapping intervals. Assume that the set of non-overlapping intervals is sorted on the basis of start time, to find correct position of insertion.\n",
    "\n",
    "<br>Input Set : [1, 3], [6, 9]\n",
    "<br>New Interval : [2, 5] \n",
    "<br>Output : [1, 5], [6, 9]\n",
    "\n",
    "<br>Input Set : [1, 2], [3, 5], [6, 7], [8, 10], [12, 16]\n",
    "<br>New Interval : [4, 9]\n",
    "<br>Output : [1, 2], [3, 10], [12, 16]"
   ]
  },
  {
   "cell_type": "code",
   "execution_count": null,
   "metadata": {},
   "outputs": [],
   "source": [
    "#1 below the left end > insert at the front\n",
    "#2 higher the right end > insert at the end\n",
    "#3 do something else\n",
    "\n",
    "def overlap (intervals, new):\n",
    "    result = [];\n",
    "    intervals.sort();\n",
    "    if new[1] < intervals[0][0]:\n",
    "        result = [new] + intervals;\n",
    "        return result;\n",
    "    elif new[0] > intervals[-1][1]:\n",
    "        result = intervals + [new];\n",
    "        return result;\n",
    "    for x in intervals:\n",
    "        if new[0] <= x[0] <= new[1] or new[0] <= x[1] <= new[1]:\n",
    "            new = [min(new + x), max(new + x)];\n",
    "        else:\n",
    "            result.append(x);\n",
    "    result.append(new);\n",
    "    result.sort();\n",
    "    return result;\n",
    "\n",
    "overlap([[1, 2], [3, 5], [6, 7], [8, 10], [12, 16]], [4, 9])\n",
    "    "
   ]
  },
  {
   "cell_type": "markdown",
   "metadata": {},
   "source": [
    "Given an array of integers, return indices of the two numbers such that they add up to a specific target.\n",
    "You may assume that each input would have exactly one solution, and you may not use the same element twice.\n",
    "\n",
    "<br>Given nums = [2, 7, 11, 15], target = 9,\n",
    "<br>Because nums[0] + nums[1] = 2 + 7 = 9,\n",
    "<br>return [0, 1]."
   ]
  },
  {
   "cell_type": "code",
   "execution_count": null,
   "metadata": {},
   "outputs": [],
   "source": [
    "def indices (nums, target):\n",
    "    dic = dict();\n",
    "    nums.sort();\n",
    "    diff = 0;\n",
    "    for x in range(len(nums)):\n",
    "        dic[nums[x]] = x;\n",
    "        print(dic)\n",
    "    for x in range(len(nums)):\n",
    "        if nums[x] < target:\n",
    "            diff = target - nums[x];\n",
    "            return [x, dic[diff]];\n",
    "    \n",
    "indices([2, 7, 11, 15], 9)"
   ]
  },
  {
   "cell_type": "markdown",
   "metadata": {},
   "source": [
    "You are given two non-empty linked lists representing two non-negative integers. The digits are stored in reverse order and each of their nodes contain a single digit. Add the two numbers and return it as a linked list.\n",
    "You may assume the two numbers do not contain any leading zero, except the number 0 itself.\n",
    "\n",
    "Example:\n",
    "\n",
    "<br>Input: (2 -> 4 -> 3) + (5 -> 6 -> 4)\n",
    "<br>Output: 7 -> 0 -> 8\n",
    "<br>Explanation: 342 + 465 = 807."
   ]
  },
  {
   "cell_type": "code",
   "execution_count": null,
   "metadata": {},
   "outputs": [],
   "source": [
    "def addTwoNumbers(a, b):\n",
    "    a.reverse();\n",
    "    b.reverse();\n",
    "    inta = int(str(a)[1:-1].replace(', ', ''));\n",
    "    intb = int(str(b)[1:-1].replace(', ', ''));\n",
    "    c = str(inta + intb);\n",
    "    result = [];\n",
    "    for x in c:\n",
    "        result += x;\n",
    "    result.reverse()\n",
    "    return result;\n",
    "    \n",
    "    \n",
    "addTwoNumbers([2, 4, 3], [5, 6, 4])"
   ]
  },
  {
   "cell_type": "code",
   "execution_count": null,
   "metadata": {},
   "outputs": [],
   "source": [
    "listita = [1, 2, 3, 4, 5, 6, 7, 8, 9, 10]\n",
    "for x, val in enumerate(listita):\n",
    "    print(x, val);"
   ]
  },
  {
   "cell_type": "markdown",
   "metadata": {},
   "source": [
    "Given a string, find the length of the longest substring without repeating characters.\n",
    "\n",
    "<br>Input: \"pwwkew\"\n",
    "<br>Output: 3\n",
    "<br>Explanation: The answer is \"wke\", with the length of 3. \n",
    "             Note that the answer must be a substring, \"pwke\" is a subsequence and not a substring."
   ]
  },
  {
   "cell_type": "code",
   "execution_count": null,
   "metadata": {},
   "outputs": [],
   "source": [
    "def lengthOfLongestSubstring(str):\n",
    "    substr = '';\n",
    "    substr2 = '';\n",
    "    for x in str:\n",
    "        if substr.find(x) < 0:\n",
    "            substr += x;\n",
    "        elif len(substr) > len(substr2):\n",
    "            substr2 = substr;\n",
    "            substr = x;\n",
    "    return len(substr2);\n",
    "\n",
    "\n",
    "print(lengthOfLongestSubstring('pwwkew'));"
   ]
  },
  {
   "cell_type": "code",
   "execution_count": null,
   "metadata": {},
   "outputs": [],
   "source": [
    "#Fibonacci\n",
    "def fibonacciVal(n):\n",
    "    memo = [None] * (n + 1);\n",
    "    memo[0], memo[1] = 0, 1\n",
    "    for i in range(2, n+1):\n",
    "        memo[i] = memo[i-1] + memo[i-2]\n",
    "        print(memo);\n",
    "    return memo[n]\n",
    "fibonacciVal(4)"
   ]
  },
  {
   "cell_type": "code",
   "execution_count": null,
   "metadata": {
    "scrolled": true
   },
   "outputs": [],
   "source": [
    "#Fibonacci\n",
    "def F(n):\n",
    "    print(n);\n",
    "    if n == 0 or n == 1:\n",
    "        return n;\n",
    "    else:\n",
    "        return F(n-1)+F(n-2)\n",
    "    \n",
    "F(8)"
   ]
  },
  {
   "cell_type": "markdown",
   "metadata": {},
   "source": [
    "Given a string s, find the longest palindromic substring in s. You may assume that the maximum length of s is 1000.\n",
    "\n",
    "<br>Example 1:\n",
    "<br>Input: \"babad\"\n",
    "<br>Output: \"bab\"\n",
    "<br>Note: \"aba\" is also a valid answer.\n",
    "\n",
    "<br>Example 2:\n",
    "<br>Input: \"cbbd\"\n",
    "<br>Output: \"bb\""
   ]
  },
  {
   "cell_type": "code",
   "execution_count": null,
   "metadata": {
    "scrolled": true
   },
   "outputs": [],
   "source": [
    "def print_fp(fp):\n",
    "    for x in fp:\n",
    "        print(x);\n",
    "\n",
    "def longest(str):\n",
    "    fp = [[False for i in range(len(str))] for i in range(len(str))];\n",
    "    for x, val in enumerate(fp):\n",
    "        fp[x][x] = True;\n",
    "    #print_fp(fp);\n",
    "    \n",
    "    maxlenght = 1;\n",
    "    start = 0;\n",
    "    \n",
    "    for L in range(2, len(str) + 1):\n",
    "        for I in range(len(str) - L + 1):\n",
    "            end = I + L;\n",
    "            \n",
    "            if L == 2:\n",
    "                print('L:2, I:', I, ', End:', end, ', Str:', str[I] , ',', str[end - 1]);\n",
    "                if str[I] == str[end - 1]:\n",
    "                    fp[I][end - 1] = True;\n",
    "                    maxlenght = L;\n",
    "                    start = I;\n",
    "            else:\n",
    "                print('L:', L, ', I:', I, ', End', end, ', Str:', str[I] , ',', str[end - 1]);\n",
    "                if str[I] == str[end - 1] and fp[I + 1][end - 2]:\n",
    "                    fp[I][end - 1] = True;\n",
    "                    maxlenght = L;\n",
    "                    start = I;\n",
    "            print_fp(fp);\n",
    "            print();\n",
    "    return str[start : start + maxlenght];\n",
    "    \n",
    "print(longest('ABBABBC'));"
   ]
  },
  {
   "cell_type": "code",
   "execution_count": null,
   "metadata": {},
   "outputs": [],
   "source": [
    "def longestPalindrome(s):\n",
    "    dp = [[False for i in range(len(s))] for i in range(len(s))]\n",
    "    for i in range(len(s)):\n",
    "        dp[i][i] = True;\n",
    "        \n",
    "    max_length = 1;\n",
    "    start = 0;\n",
    "    for l in range(2,len(s)+1):\n",
    "        for i in range(len(s)-l+1):\n",
    "            end = i+l\n",
    "            if l==2:\n",
    "                if s[i] == s[end-1]:\n",
    "                    dp[i][end-1] = True\n",
    "                    max_length = l\n",
    "                    start = i\n",
    "            else:\n",
    "                if s[i] == s[end-1] and dp[i+1][end-2]:\n",
    "                    dp[i][end-1]=True\n",
    "                    max_length = l\n",
    "                    start = i\n",
    "    return s[start:start+max_length]\n",
    "\n",
    "print(longestPalindrome(\"ABBABBC\"))"
   ]
  },
  {
   "cell_type": "code",
   "execution_count": null,
   "metadata": {},
   "outputs": [],
   "source": [
    "def removeDuplicates(nums):\n",
    "    new_nums = [nums[0]]\n",
    "    i = 1\n",
    "    while i < len(nums):\n",
    "        if nums[i] != nums[i-1]:\n",
    "            new_nums.append(nums[i]);\n",
    "        i += 1;   \n",
    "    return new_nums\n",
    "            \n",
    "            \n",
    "removeDuplicates([1,1,2])        "
   ]
  },
  {
   "cell_type": "code",
   "execution_count": null,
   "metadata": {},
   "outputs": [],
   "source": [
    "def removeElement(nums, val):\n",
    "    i = 0\n",
    "    j = 0\n",
    "    while i < len(nums):\n",
    "        if val != nums[i]:\n",
    "            nums[j] = nums[i]\n",
    "            j += 1\n",
    "        i += 1\n",
    "    return nums[:j]\n",
    "            \n",
    "#[0,1,2,2,3,0,4,2] , 2\n",
    "removeElement([0,1,2,2,3,0,4,2] , 2)"
   ]
  },
  {
   "cell_type": "code",
   "execution_count": null,
   "metadata": {},
   "outputs": [],
   "source": [
    "def strStr(haystack, needle):\n",
    "    h = len(haystack)\n",
    "    n = len(needle)\n",
    "    i = 0\n",
    "    if n == 0 or h == 0:\n",
    "        return 0\n",
    "    while i < h:\n",
    "        if haystack[i : n + i] == needle:\n",
    "            return i\n",
    "        i += 1\n",
    "    return -1\n",
    "    \n",
    "strStr('aaaaabbaaa', 'bb')"
   ]
  },
  {
   "cell_type": "code",
   "execution_count": null,
   "metadata": {},
   "outputs": [],
   "source": [
    "def divide(dividend, divisor):\n",
    "    d = divisor\n",
    "    x = 0\n",
    "    if abs(dividend) == abs(divisor):\n",
    "        return 1\n",
    "    elif abs(dividend) < abs(divisor):\n",
    "        return 0\n",
    "    while d <= dividend:\n",
    "        d += divisor\n",
    "        x += 1\n",
    "    return x\n",
    "\n",
    "divide(10, 3)"
   ]
  },
  {
   "cell_type": "code",
   "execution_count": 27,
   "metadata": {},
   "outputs": [
    {
     "data": {
      "text/plain": [
       "[]"
      ]
     },
     "execution_count": 27,
     "metadata": {},
     "output_type": "execute_result"
    }
   ],
   "source": [
    "import collections\n",
    "#from collections import Counter\n",
    "\n",
    "def findSubstring(s, words):\n",
    "    words_len = len(words)\n",
    "    result = []\n",
    "    if words_len == 0:\n",
    "        return result\n",
    "    w_len = len(words[0])\n",
    "    if w_len * words_len > len(s):\n",
    "        return result\n",
    "    \n",
    "    cnt = collections.Counter(words)\n",
    "    w_len = len(words[0])\n",
    "    flag = True\n",
    "    \n",
    "    i = 0\n",
    "    while i < len(s):\n",
    "        cnt2 = cnt.copy()\n",
    "        s2 = s[i : i + w_len * words_len]\n",
    "        i2 = 0\n",
    "        flag = True\n",
    "        while i2 < len(s2):\n",
    "            if cnt2[s2[i2:i2 + w_len]] > 0:\n",
    "                cnt2[s2[i2:i2 + w_len]] -= 1\n",
    "            i2 += w_len\n",
    "        for k, v in cnt2.items():\n",
    "            if v > 0:\n",
    "                flag = False\n",
    "                break\n",
    "        if flag: \n",
    "            result.append(i)\n",
    "            i += w_len * words_len\n",
    "        else:\n",
    "            i += w_len\n",
    "    return result\n",
    "\n",
    "    \n",
    "findSubstring(\"wordgoodgoodgoodbestword\", [\"word\",\"good\",\"best\",\"word\"])"
   ]
  },
  {
   "cell_type": "code",
   "execution_count": 28,
   "metadata": {},
   "outputs": [
    {
     "name": "stdout",
     "output_type": "stream",
     "text": [
      "9\n",
      "8\n",
      "7\n",
      "6\n",
      "5\n",
      "4\n",
      "3\n",
      "2\n",
      "1\n"
     ]
    }
   ],
   "source": [
    "n = 10\n",
    "for i in range(n-1,0,-1):\n",
    "    print(i)"
   ]
  },
  {
   "cell_type": "code",
   "execution_count": 76,
   "metadata": {},
   "outputs": [
    {
     "name": "stdout",
     "output_type": "stream",
     "text": [
      "[5, 3, 6, 4, 7, 9]\n",
      "[1, 5, 1]\n",
      "[1, 3, 2]\n",
      "[2, 1, 3]\n"
     ]
    }
   ],
   "source": [
    "def nextPermutation(nums):\n",
    "    nums_len = len(nums)\n",
    "    x = 0\n",
    "    for i in range(nums_len - 1, 0, -1):\n",
    "        if nums[i] > nums[i - 1]:\n",
    "            x = nums[i - 1]\n",
    "            break\n",
    "    if i == 1 and x == 0:\n",
    "        nums = sorted(nums, reverse = False)\n",
    "        return\n",
    "    #swap\n",
    "    nums[i - 1], nums[nums_len - 1] = nums[nums_len - 1], x \n",
    "    nums = nums[: i] + sorted(nums[i:])\n",
    "    print(nums)\n",
    "    \n",
    "    \n",
    "nextPermutation([5, 3, 4, 9, 7, 6])\n",
    "nextPermutation([3, 2, 1])\n",
    "nextPermutation([1, 1, 5])\n",
    "nextPermutation([1, 2, 3])\n",
    "nextPermutation([1, 3, 2])"
   ]
  },
  {
   "cell_type": "code",
   "execution_count": null,
   "metadata": {},
   "outputs": [],
   "source": [
    "  # digit that is smaller than the digit next to it \n",
    "     for i in range(n-1,0,-1): \n",
    "         if number[i] > number[i-1]: \n",
    "             break"
   ]
  },
  {
   "cell_type": "code",
   "execution_count": 99,
   "metadata": {},
   "outputs": [
    {
     "name": "stdout",
     "output_type": "stream",
     "text": [
      "4\n",
      "2\n",
      "4\n",
      "6\n"
     ]
    }
   ],
   "source": [
    "def longestValidParentheses(s):\n",
    "    stack = []\n",
    "    for i in range(len(s)):\n",
    "        stack_len = len(stack)\n",
    "        if i == 0:\n",
    "            stack.append(s[i])\n",
    "        elif s[i] == '(':\n",
    "            stack.append(s[i])\n",
    "        elif stack[stack_len - 1] == '(':\n",
    "            stack.pop()\n",
    "        else:\n",
    "            stack.append(s[i])\n",
    "        #print(stack)\n",
    "    return len(s) - len(stack)\n",
    "\n",
    "print(longestValidParentheses(')()())'))\n",
    "print(longestValidParentheses('(()'))\n",
    "print(longestValidParentheses('((())'))\n",
    "print(longestValidParentheses('((()())'))"
   ]
  },
  {
   "cell_type": "code",
   "execution_count": 147,
   "metadata": {},
   "outputs": [
    {
     "data": {
      "text/plain": [
       "2"
      ]
     },
     "execution_count": 147,
     "metadata": {},
     "output_type": "execute_result"
    }
   ],
   "source": [
    "def search(nums, target):\n",
    "    return search2(nums, target, 0, len(nums) - 1)\n",
    "\n",
    "def search2(nums, target, left, right):\n",
    "    mid = (left + right) // 2\n",
    "    \n",
    "    if target == nums[mid]:\n",
    "        return mid\n",
    "    if right == left:\n",
    "        return -1\n",
    "    \n",
    "    if nums[left] < nums[mid]:\n",
    "        if nums[left] <= target <= nums[mid]:\n",
    "            right = mid - 1\n",
    "            return search2(nums, target, left, right)\n",
    "        else:\n",
    "            left = mid + 1\n",
    "            return search2(nums, target, left, right)\n",
    "    if target <= nums[mid]:\n",
    "        right = mid - 1\n",
    "        return search2(nums, target, left, right)\n",
    "    else:\n",
    "        left = mid + 1\n",
    "        return search2(nums, target, left, right)\n",
    "    \n",
    "search([5, 6, 7, 0, 1, 2, 3, 4], 0)\n",
    "search([4, 5, 6, 7, 0, 1, 2], 0)\n",
    "search([6, 7, 0, 1, 2, 3, 4, 5], 0)\n",
    "search([4, 5, 6, 7, 8, 9, 1, 2, 3], 6)"
   ]
  },
  {
   "cell_type": "code",
   "execution_count": 157,
   "metadata": {},
   "outputs": [
    {
     "name": "stdout",
     "output_type": "stream",
     "text": [
      "[3, 4]\n",
      "[-1, -1]\n",
      "[-1, -1]\n",
      "[6, 9]\n",
      "[6, 6]\n"
     ]
    }
   ],
   "source": [
    "def searchRange2(nums, target, start_index, end_index):\n",
    "    if len(nums) == 0:\n",
    "        return [-1, -1]\n",
    "    elif nums[0] > target or nums[-1] < target:\n",
    "        return [-1, -1]\n",
    "    elif start_index <= end_index:\n",
    "        if nums[start_index] == target & nums[end_index] == target:\n",
    "            return [start_index, end_index]\n",
    "        if nums[start_index] < target:\n",
    "            start_index += 1\n",
    "        if nums[end_index] > target:\n",
    "            end_index -= 1\n",
    "        return searchRange2(nums, target, start_index, end_index)\n",
    "    else:\n",
    "        return [-1, -1]\n",
    "            \n",
    "            \n",
    "    #[search,search]\n",
    "\n",
    "def searchRange(nums, target):\n",
    "    print(searchRange2(nums, target, 0, len(nums) - 1))\n",
    "    \n",
    "    \n",
    "searchRange([5,7,7,8,8,10], 8)\n",
    "searchRange([5,7,7,8,8,10], 11)\n",
    "searchRange([5,7,7,8,8,10], 6)\n",
    "searchRange([2, 3, 4, 5,7,7,8, 8, 8, 8,10, 11], 8)\n",
    "searchRange([2, 3, 4, 5,7,7,8,10, 11], 8)"
   ]
  },
  {
   "cell_type": "code",
   "execution_count": 165,
   "metadata": {},
   "outputs": [
    {
     "data": {
      "text/plain": [
       "2"
      ]
     },
     "execution_count": 165,
     "metadata": {},
     "output_type": "execute_result"
    }
   ],
   "source": [
    "class Solution:\n",
    "    def searchInsert(nums, target):\n",
    "        if target < nums[0]:\n",
    "            return 0\n",
    "        if target > nums[-1]:\n",
    "            return len(nums)\n",
    "        for x in range(len(nums) - 1):\n",
    "            if nums[x] == target:\n",
    "                return x\n",
    "            elif x < len(nums) - 1 & nums[x] < target < nums[x + 1]:\n",
    "                return x + 1\n",
    "        \n",
    "            \n",
    "Solution.searchInsert([1,3,5,6], 2)\n",
    "Solution.searchInsert([1,3,5,6], 7)\n",
    "Solution.searchInsert([1,3,5,6], 0)\n",
    "Solution.searchInsert([1,3,5,6], 5)"
   ]
  },
  {
   "cell_type": "markdown",
   "metadata": {},
   "source": [
    "Determine if a 9x9 Sudoku board is valid. Only the filled cells need to be validated according to the following rules:\n",
    "\n",
    "- Each row must contain the digits 1-9 without repetition.\n",
    "- Each column must contain the digits 1-9 without repetition.\n",
    "- Each of the 9 3x3 sub-boxes of the grid must contain the digits 1-9 without repetition.\n",
    "\n",
    "[\n",
    "\n",
    "  [\"5\",\"3\",\".\",\".\",\"7\",\".\",\".\",\".\",\".\"],\n",
    "  \n",
    "  [\"6\",\".\",\".\",\"1\",\"9\",\"5\",\".\",\".\",\".\"],\n",
    "  \n",
    "  [\".\",\"9\",\"8\",\".\",\".\",\".\",\".\",\"6\",\".\"],\n",
    "  \n",
    "  [\"8\",\".\",\".\",\".\",\"6\",\".\",\".\",\".\",\"3\"],\n",
    "  \n",
    "  [\"4\",\".\",\".\",\"8\",\".\",\"3\",\".\",\".\",\"1\"],\n",
    "  \n",
    "  [\"7\",\".\",\".\",\".\",\"2\",\".\",\".\",\".\",\"6\"],\n",
    "  \n",
    "  [\".\",\"6\",\".\",\".\",\".\",\".\",\"2\",\"8\",\".\"],\n",
    "  \n",
    "  [\".\",\".\",\".\",\"4\",\"1\",\"9\",\".\",\".\",\"5\"],\n",
    "  \n",
    "  [\".\",\".\",\".\",\".\",\"8\",\".\",\".\",\"7\",\"9\"]\n",
    "  \n",
    "]\n",
    "\n",
    "1. check rows\n",
    "2. check columns\n",
    "3. check blocks"
   ]
  },
  {
   "cell_type": "code",
   "execution_count": 227,
   "metadata": {},
   "outputs": [
    {
     "data": {
      "text/plain": [
       "False"
      ]
     },
     "execution_count": 227,
     "metadata": {},
     "output_type": "execute_result"
    }
   ],
   "source": [
    "def hasDups(l):\n",
    "    s = []\n",
    "    for x in l:\n",
    "        if x in s:\n",
    "            return True\n",
    "        elif x != '.':\n",
    "            s.append(x)\n",
    "    return False\n",
    "\n",
    "def pivot(board):\n",
    "    col = []\n",
    "    pboard = []\n",
    "    for x in range(0, 8):\n",
    "        col = []\n",
    "        for row in range(len(board) - 1):\n",
    "            col.append(board[row][x])\n",
    "        pboard.append(col)\n",
    "    return pboard\n",
    "\n",
    "def getboxes(board):\n",
    "    boxes = []\n",
    "    r = 0\n",
    "    c = 0\n",
    "    for b in range(9):\n",
    "        box = []\n",
    "        if b == 0:\n",
    "            r = 0\n",
    "            c = 0\n",
    "        elif b > 0 and b % 3 == 0:\n",
    "            r += 1\n",
    "            c = 0\n",
    "        else:\n",
    "            c += 3\n",
    "        for x in range(r * 3, r * 3 + 3):\n",
    "            box += (board[x][c : c + 3])\n",
    "        boxes.append(box)\n",
    "    return boxes\n",
    "                \n",
    "                \n",
    "def isValidSudoku(board):\n",
    "    for row in board:\n",
    "        if hasDups(row):\n",
    "            return False\n",
    "    \n",
    "    pboard = pivot(board)\n",
    "    \n",
    "    for row in pboard:\n",
    "        if hasDups(row):\n",
    "            return False\n",
    "        \n",
    "    boxes = getboxes(board)\n",
    "    for box in boxes:\n",
    "        if hasDups(box):\n",
    "            return False\n",
    "   \n",
    "    return True\n",
    "\n",
    "\n",
    "isValidSudoku([\n",
    "  [\"5\",\"3\",\".\",\".\",\"7\",\"6\",\".\",\".\",\".\"],\n",
    "  [\"6\",\".\",\".\",\"1\",\"9\",\"5\",\".\",\".\",\".\"],\n",
    "  [\".\",\"9\",\"8\",\".\",\".\",\".\",\".\",\"6\",\".\"],\n",
    "  [\"8\",\".\",\".\",\".\",\"6\",\".\",\".\",\".\",\"3\"],\n",
    "  [\"4\",\".\",\".\",\"8\",\".\",\"3\",\".\",\".\",\"1\"],\n",
    "  [\"7\",\".\",\".\",\".\",\"2\",\".\",\".\",\".\",\"6\"],\n",
    "  [\".\",\"6\",\".\",\".\",\".\",\".\",\"2\",\"8\",\".\"],\n",
    "  [\".\",\".\",\".\",\"4\",\"1\",\"9\",\".\",\".\",\"5\"],\n",
    "  [\".\",\".\",\".\",\".\",\"8\",\".\",\".\",\"7\",\"9\"]\n",
    "])"
   ]
  },
  {
   "cell_type": "code",
   "execution_count": 174,
   "metadata": {},
   "outputs": [
    {
     "name": "stdout",
     "output_type": "stream",
     "text": [
      "<class 'enumerate'>\n",
      "<enumerate object at 0x1142fbdc0>\n"
     ]
    }
   ],
   "source": [
    "grocery = ['bread', 'milk', 'butter']\n",
    "enumerateGrocery = enumerate(grocery)\n",
    "\n",
    "print(type(enumerateGrocery))\n",
    "print(enumerateGrocery)"
   ]
  },
  {
   "cell_type": "code",
   "execution_count": 206,
   "metadata": {},
   "outputs": [
    {
     "name": "stdout",
     "output_type": "stream",
     "text": [
      "0 0\n",
      "1 3\n",
      "2 6\n"
     ]
    }
   ],
   "source": [
    "#range(start, stop, step)\n",
    "x = range(0, 9, 3)\n",
    "for index, n in enumerate(x):\n",
    "    print(index, n)\n",
    "    "
   ]
  },
  {
   "cell_type": "code",
   "execution_count": 2,
   "metadata": {
    "scrolled": true
   },
   "outputs": [
    {
     "name": "stdout",
     "output_type": "stream",
     "text": [
      "{'output1': [1, 0, 1, 1, 1, 1, 1], 'output2': [1, 0, 1, 1, 0, 0, 0]}\n"
     ]
    }
   ],
   "source": [
    "outputs = {'output1': ['a', 'b', 'c'],\n",
    "         'output2': ['a', 'b']}\n",
    "\n",
    "items = {'a':[1, 0, 1, 1, 0, 0, 0],\n",
    "            'b':[1, 0, 1, 1, 0, 0, 0],\n",
    "            'c':[1, 0, 1, 1, 1, 1, 1]}\n",
    "\n",
    "temp_result = []\n",
    "final_result = {}\n",
    "\n",
    "for output in outputs:\n",
    "    temp_result = []\n",
    "    output_list = outputs[output]\n",
    "    if len(output_list) > 0:\n",
    "        item_list = items[output_list[0]]\n",
    "    for item_lists in output_list[1:]:\n",
    "        items[item_lists]\n",
    "        zip_list = zip(item_list, items[item_lists])\n",
    "    for i in zip_list:\n",
    "        temp_result.append(max(i))\n",
    "    final_result[output] = temp_result\n",
    "    \n",
    "print(final_result)\n",
    "    "
   ]
  },
  {
   "cell_type": "markdown",
   "metadata": {},
   "source": [
    "### Two Sum\n",
    "Given an array of integers nums and an integer target, return indices of the two numbers such that they add up to target.\n",
    "\n",
    "You may assume that each input would have exactly one solution, and you may not use the same element twice.\n",
    "\n",
    "You can return the answer in any order."
   ]
  },
  {
   "cell_type": "code",
   "execution_count": 35,
   "metadata": {},
   "outputs": [
    {
     "data": {
      "text/plain": [
       "[3, 4]"
      ]
     },
     "execution_count": 35,
     "metadata": {},
     "output_type": "execute_result"
    }
   ],
   "source": [
    "def twoSum(nums, target):\n",
    "    dic = {}\n",
    "    diff = 0\n",
    "    result = []\n",
    "    for i, val in enumerate(nums):\n",
    "        diff = target - val\n",
    "        if diff in dic:\n",
    "            return [dic[diff], i]\n",
    "        dic[val] = i\n",
    "        \n",
    "twoSum([3, 4, 2, 7, 1, 5], 8)"
   ]
  },
  {
   "cell_type": "markdown",
   "metadata": {},
   "source": [
    "### count-and-say\n",
    "The count-and-say sequence is the sequence of integers with the first five terms as following:\n",
    "\n",
    "1.     1\n",
    "2.     11\n",
    "3.     21\n",
    "4.     1211\n",
    "5.     111221\n",
    "1 is read off as \"one 1\" or 11.\n",
    "11 is read off as \"two 1s\" or 21.\n",
    "21 is read off as \"one 2, then one 1\" or 1211.\n",
    "\n",
    "Given an integer n where 1 ≤ n ≤ 30, generate the nth term of the count-and-say sequence. You can do so recursively, in other words from the previous member read off the digits, counting the number of digits in groups of the same digit.\n",
    "\n",
    "Note: Each term of the sequence of integers will be represented as a string."
   ]
  },
  {
   "cell_type": "code",
   "execution_count": 33,
   "metadata": {
    "scrolled": true
   },
   "outputs": [
    {
     "name": "stdout",
     "output_type": "stream",
     "text": [
      "19 : 21 \n",
      "\n",
      "18 : 1211 \n",
      "\n",
      "17 : 111221 \n",
      "\n",
      "16 : 312211 \n",
      "\n",
      "15 : 13112221 \n",
      "\n",
      "14 : 1113213211 \n",
      "\n",
      "13 : 31131211131221 \n",
      "\n",
      "12 : 13211311123113112211 \n",
      "\n",
      "11 : 11131221133112132113212221 \n",
      "\n",
      "10 : 3113112221232112111312211312113211 \n",
      "\n",
      "9 : 1321132132111213122112311311222113111221131221 \n",
      "\n",
      "8 : 11131221131211131231121113112221121321132132211331222113112211 \n",
      "\n",
      "7 : 311311222113111231131112132112311321322112111312211312111322212311322113212221 \n",
      "\n",
      "6 : 132113213221133112132113311211131221121321131211132221123113112221131112311332111213211322211312113211 \n",
      "\n",
      "5 : 11131221131211132221232112111312212321123113112221121113122113111231133221121321132132211331121321231231121113122113322113111221131221 \n",
      "\n",
      "4 : 31131122211311123113321112131221123113112211121312211213211321322112311311222113311213212322211211131221131211132221232112111312111213111213211231131122212322211331222113112211 \n",
      "\n",
      "3 : 1321132132211331121321231231121113112221121321132122311211131122211211131221131211132221121321132132212321121113121112133221123113112221131112311332111213122112311311123112111331121113122112132113213211121332212311322113212221 \n",
      "\n",
      "2 : 11131221131211132221232112111312111213111213211231132132211211131221131211221321123113213221123113112221131112311332211211131221131211132211121312211231131112311211232221121321132132211331121321231231121113112221121321133112132112312321123113112221121113122113121113123112112322111213211322211312113211 \n",
      "\n",
      "1 : 311311222113111231133211121312211231131112311211133112111312211213211312111322211231131122211311122122111312211213211312111322211213211321322113311213212322211231131122211311123113223112111311222112132113311213211221121332211211131221131211132221232112111312111213111213211231132132211211131221232112111312211213111213122112132113213221123113112221131112311311121321122112132231121113122113322113111221131221 \n",
      "\n",
      "0 : 132113213221133112132123123112111311222112132113311213211231232112311311222112111312211311123113322112132113213221133122112231131122211211131221131112311332211211131221131211132221232112111312111213322112132113213221133112132113221321123113213221121113122123211211131221222112112322211231131122211311123113321112131221123113111231121113311211131221121321131211132221123113112211121312211231131122211211133112111311222112111312211312111322211213211321322113311213211331121113122122211211132213211231131122212322211331222113112211 \n",
      "\n",
      "132113213221133112132123123112111311222112132113311213211231232112311311222112111312211311123113322112132113213221133122112231131122211211131221131112311332211211131221131211132221232112111312111213322112132113213221133112132113221321123113213221121113122123211211131221222112112322211231131122211311123113321112131221123113111231121113311211131221121321131211132221123113112211121312211231131122211211133112111311222112111312211312111322211213211321322113311213211331121113122122211211132213211231131122212322211331222113112211\n"
     ]
    }
   ],
   "source": [
    "def countAndSay_rec(n, chain):\n",
    "    prev_val = chain[0]\n",
    "    cnt = 1\n",
    "    new_chain = ''\n",
    "    for i, val in enumerate(chain[1:]):\n",
    "        if prev_val == val:\n",
    "            cnt += 1\n",
    "        else:\n",
    "            new_chain += str(cnt)\n",
    "            new_chain += str(prev_val)\n",
    "            cnt = 1\n",
    "            prev_val = val\n",
    "    new_chain += str(cnt)\n",
    "    new_chain += str(prev_val)\n",
    "    n -= 1\n",
    "    print(n, ':', new_chain, '\\n')\n",
    "    if n > 0:\n",
    "        return countAndSay_rec(n, new_chain)\n",
    "    else:\n",
    "        return new_chain\n",
    "        \n",
    "def countAndSay(n):\n",
    "    if n == 1:\n",
    "        return 1\n",
    "    return countAndSay_rec(n, '11')\n",
    "        \n",
    "print(countAndSay(20))"
   ]
  },
  {
   "cell_type": "markdown",
   "metadata": {},
   "source": [
    "### Combination Sum\n",
    "Given a set of candidate numbers (candidates) (without duplicates) and a target number (target), find all unique combinations in candidates where the candidate numbers sums to target.\n",
    "\n",
    "The same repeated number may be chosen from candidates unlimited number of times.\n",
    "\n",
    "Note:\n",
    "\n",
    "All numbers (including target) will be positive integers.\n",
    "The solution set must not contain duplicate combinations."
   ]
  },
  {
   "cell_type": "code",
   "execution_count": 52,
   "metadata": {},
   "outputs": [
    {
     "data": {
      "text/plain": [
       "[[2, 2, 2, 2], [2, 3, 3], [3, 5], [4, 2, 2], [4, 4], [5, 3]]"
      ]
     },
     "execution_count": 52,
     "metadata": {},
     "output_type": "execute_result"
    }
   ],
   "source": [
    "def combinationSum(candidates, target):\n",
    "    candidates.sort()\n",
    "    result = []\n",
    "    for candidate in candidates: \n",
    "        index = 0\n",
    "        chain = [candidate]\n",
    "        i = 0\n",
    "        while i in range(len(candidates)):\n",
    "            chain.append(candidates[i])\n",
    "            if sum(chain) > target:\n",
    "                i += 1\n",
    "                chain = [candidate]\n",
    "            if sum(chain) == target:\n",
    "                i += 1\n",
    "                result.append(chain)\n",
    "                chain = [candidate]\n",
    "    return result\n",
    "        \n",
    "combinationSum([2, 3, 4, 5], 8)"
   ]
  },
  {
   "cell_type": "markdown",
   "metadata": {},
   "source": [
    "### Combination Sum II\n",
    "Given a collection of candidate numbers (candidates) and a target number (target), find all unique combinations in candidates where the candidate numbers sums to target.\n",
    "\n",
    "Each number in candidates may only be used once in the combination.\n",
    "\n",
    "Note:\n",
    "\n",
    "All numbers (including target) will be positive integers.\n",
    "The solution set must not contain duplicate combinations."
   ]
  },
  {
   "cell_type": "code",
   "execution_count": 56,
   "metadata": {},
   "outputs": [
    {
     "name": "stdout",
     "output_type": "stream",
     "text": [
      "[[2, 6], [6, 1, 1], [6, 2], [7, 1]]\n",
      "[[2, 1, 2], [5]]\n"
     ]
    }
   ],
   "source": [
    "def combinationSum2(candidates, target):\n",
    "    candidates.sort()\n",
    "    result = []\n",
    "    for candidate in candidates: \n",
    "        index = 0\n",
    "        chain = [candidate]\n",
    "        i = 0\n",
    "        while i in range(len(candidates)):\n",
    "            chain.append(candidates[i])\n",
    "            if sum(chain) > target:\n",
    "                chain = [candidate]\n",
    "            if sum(chain) == target:\n",
    "                if chain not in result:\n",
    "                    result.append(chain)\n",
    "                chain = [candidate]\n",
    "            i += 1\n",
    "    return result\n",
    "        \n",
    "print(combinationSum2([10,1,2,7,6,1,5], 8))\n",
    "print(combinationSum2([2,5,2,1,2], 5))"
   ]
  },
  {
   "cell_type": "markdown",
   "metadata": {},
   "source": [
    "### First Missing Positive\n",
    "Given an unsorted integer array, find the smallest missing positive integer.\n",
    "\n",
    "Example 1:\n",
    "\n",
    "Input: [1,2,0]\n",
    "Output: 3"
   ]
  },
  {
   "cell_type": "code",
   "execution_count": 62,
   "metadata": {},
   "outputs": [
    {
     "data": {
      "text/plain": [
       "3"
      ]
     },
     "execution_count": 62,
     "metadata": {},
     "output_type": "execute_result"
    }
   ],
   "source": [
    "def firstMissingPositive(nums):\n",
    "    m = max(nums)\n",
    "    for i in range(1, m + 2):\n",
    "        if i not in nums:\n",
    "            return i\n",
    "        \n",
    "firstMissingPositive([1,2,0])"
   ]
  },
  {
   "cell_type": "markdown",
   "metadata": {},
   "source": [
    "### Trapping Rain Water\n",
    "Given n non-negative integers representing an elevation map where the width of each bar is 1, compute how much water it is able to trap after raining."
   ]
  },
  {
   "cell_type": "code",
   "execution_count": 86,
   "metadata": {},
   "outputs": [
    {
     "data": {
      "text/plain": [
       "6"
      ]
     },
     "execution_count": 86,
     "metadata": {},
     "output_type": "execute_result"
    }
   ],
   "source": [
    "def trap(height):\n",
    "    result = 0\n",
    "    up = False\n",
    "    x = 0\n",
    "    while x < len(height):\n",
    "        vol = 0\n",
    "        up = False\n",
    "        index = 0\n",
    "        xval = height[x]\n",
    "        for y, yval in enumerate(height[x + 1:]):\n",
    "            index += 1\n",
    "            if yval >= xval:\n",
    "                up = True\n",
    "                break\n",
    "            vol += xval - yval\n",
    "        if up:\n",
    "            result += vol\n",
    "            if index > 0:\n",
    "                x += index\n",
    "                continue\n",
    "        x += 1\n",
    "    return result\n",
    "\n",
    "    \n",
    "trap([0,1,0,2,1,0,1,3,2,1,2,1])"
   ]
  },
  {
   "cell_type": "markdown",
   "metadata": {},
   "source": [
    "### Multiply Strings\n",
    "Given two non-negative integers num1 and num2 represented as strings, return the product of num1 and num2, also represented as a string.\n",
    "\n",
    "Example 1:\n",
    "\n",
    "Input: num1 = \"2\", num2 = \"3\"\n",
    "Output: \"6\"\n",
    "\n",
    "Example 2:\n",
    "\n",
    "Input: num1 = \"123\", num2 = \"456\"\n",
    "Output: \"56088\"\n",
    "\n",
    "- The length of both num1 and num2 is < 110.\n",
    "- Both num1 and num2 contain only digits 0-9.\n",
    "- Both num1 and num2 do not contain any leading zero, except the number 0 itself.\n",
    "- You must not use any built-in BigInteger library or convert the inputs to integer directly."
   ]
  },
  {
   "cell_type": "markdown",
   "metadata": {},
   "source": [
    "# Challenge!\n",
    "Write a program to solve a Sudoku puzzle by filling the empty cells.\n",
    "\n",
    "A sudoku solution must satisfy all of the following rules:\n",
    "\n",
    "Each of the digits 1-9 must occur exactly once in each row.\n",
    "Each of the digits 1-9 must occur exactly once in each column.\n",
    "Each of the the digits 1-9 must occur exactly once in each of the 9 3x3 sub-boxes of the grid.\n",
    "Empty cells are indicated by the character '.'.\n",
    "\n",
    "isValidSudoku([\n",
    "  [\"5\",\"3\",\".\",\".\",\"7\",\"6\",\".\",\".\",\".\"],\n",
    "  [\"6\",\".\",\".\",\"1\",\"9\",\"5\",\".\",\".\",\".\"],\n",
    "  [\".\",\"9\",\"8\",\".\",\".\",\".\",\".\",\"6\",\".\"],\n",
    "  [\"8\",\".\",\".\",\".\",\"6\",\".\",\".\",\".\",\"3\"],\n",
    "  [\"4\",\".\",\".\",\"8\",\".\",\"3\",\".\",\".\",\"1\"],\n",
    "  [\"7\",\".\",\".\",\".\",\"2\",\".\",\".\",\".\",\"6\"],\n",
    "  [\".\",\"6\",\".\",\".\",\".\",\".\",\"2\",\"8\",\".\"],\n",
    "  [\".\",\".\",\".\",\"4\",\"1\",\"9\",\".\",\".\",\"5\"],\n",
    "  [\".\",\".\",\".\",\".\",\"8\",\".\",\".\",\"7\",\"9\"]\n",
    "])\n"
   ]
  },
  {
   "cell_type": "code",
   "execution_count": null,
   "metadata": {},
   "outputs": [],
   "source": []
  }
 ],
 "metadata": {
  "kernelspec": {
   "display_name": "Python 3",
   "language": "python",
   "name": "python3"
  },
  "language_info": {
   "codemirror_mode": {
    "name": "ipython",
    "version": 3
   },
   "file_extension": ".py",
   "mimetype": "text/x-python",
   "name": "python",
   "nbconvert_exporter": "python",
   "pygments_lexer": "ipython3",
   "version": "3.8.1"
  }
 },
 "nbformat": 4,
 "nbformat_minor": 2
}
